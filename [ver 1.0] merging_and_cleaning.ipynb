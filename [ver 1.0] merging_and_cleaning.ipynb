{
 "cells": [
  {
   "cell_type": "markdown",
   "metadata": {},
   "source": [
    "### MERGING"
   ]
  },
  {
   "cell_type": "markdown",
   "metadata": {},
   "source": [
    "`MENGGABUNGKAN KESELURUHAN DATA DAN MENGAMBIL DATA UNIK BERDASARKAN LINK`"
   ]
  },
  {
   "cell_type": "code",
   "execution_count": 4,
   "metadata": {},
   "outputs": [],
   "source": [
    "import pandas as pd"
   ]
  },
  {
   "cell_type": "code",
   "execution_count": 5,
   "metadata": {},
   "outputs": [],
   "source": [
    "upn = pd.read_csv(\"data-keyword-upn.csv\")\n",
    "unair = pd.read_csv(\"data-keyword-unair.csv\")\n",
    "its = pd.read_csv(\"data-keyword-its.csv\")\n",
    "unesa1 = pd.read_csv(\"data-keyword-unesa1.csv\")\n",
    "unesa2 = pd.read_csv(\"data-keyword-unesa2.csv\")"
   ]
  },
  {
   "cell_type": "code",
   "execution_count": 6,
   "metadata": {},
   "outputs": [],
   "source": [
    "# Menggabungkan dataframe\n",
    "# Ignore index untuk mereset indexnya mulai dari 0 berurutan\n",
    "merge = pd.concat([upn, unair, its, unesa1, unesa2], ignore_index=True)"
   ]
  },
  {
   "cell_type": "code",
   "execution_count": 7,
   "metadata": {},
   "outputs": [
    {
     "data": {
      "text/html": [
       "<div>\n",
       "<style scoped>\n",
       "    .dataframe tbody tr th:only-of-type {\n",
       "        vertical-align: middle;\n",
       "    }\n",
       "\n",
       "    .dataframe tbody tr th {\n",
       "        vertical-align: top;\n",
       "    }\n",
       "\n",
       "    .dataframe thead th {\n",
       "        text-align: right;\n",
       "    }\n",
       "</style>\n",
       "<table border=\"1\" class=\"dataframe\">\n",
       "  <thead>\n",
       "    <tr style=\"text-align: right;\">\n",
       "      <th></th>\n",
       "      <th>Link</th>\n",
       "      <th>Nama</th>\n",
       "      <th>Lokasi</th>\n",
       "      <th>Harga</th>\n",
       "      <th>Jenis</th>\n",
       "      <th>Fasilitas</th>\n",
       "      <th>Listrik</th>\n",
       "      <th>Luas Kamar</th>\n",
       "    </tr>\n",
       "  </thead>\n",
       "  <tbody>\n",
       "    <tr>\n",
       "      <th>0</th>\n",
       "      <td>https://mamikos.com/room/kost-kota-surabaya-ko...</td>\n",
       "      <td>Kost Singgahsini Rungkut Asri Utara XI Tipe C ...</td>\n",
       "      <td>Rungkut</td>\n",
       "      <td>Rp880.000</td>\n",
       "      <td>Putri</td>\n",
       "      <td>WiFi Kloset Duduk Kasur Akses 24 Jam</td>\n",
       "      <td>Tidak termasuk listrik</td>\n",
       "      <td>2 x 2.5 meter</td>\n",
       "    </tr>\n",
       "    <tr>\n",
       "      <th>1</th>\n",
       "      <td>https://mamikos.com/room/kost-kota-surabaya-ko...</td>\n",
       "      <td>Kost Singgahsini Rungkut Asri Utara XI Tipe A ...</td>\n",
       "      <td>Rungkut</td>\n",
       "      <td>Rp1.275.000</td>\n",
       "      <td>Putri</td>\n",
       "      <td>WiFi AC Kloset Duduk Kasur Akses 24 Jam</td>\n",
       "      <td>Tidak termasuk listrik</td>\n",
       "      <td>2 x 2.5 meter</td>\n",
       "    </tr>\n",
       "    <tr>\n",
       "      <th>2</th>\n",
       "      <td>https://mamikos.com/room/kost-kota-surabaya-ko...</td>\n",
       "      <td>Kost Singgahsini Rungkut Asri Utara XI Tipe B ...</td>\n",
       "      <td>Rungkut</td>\n",
       "      <td>Rp925.000</td>\n",
       "      <td>Putri</td>\n",
       "      <td>WiFi Kloset Duduk Kasur Akses 24 Jam</td>\n",
       "      <td>Tidak termasuk listrik</td>\n",
       "      <td>2 x 3 meter</td>\n",
       "    </tr>\n",
       "    <tr>\n",
       "      <th>3</th>\n",
       "      <td>https://mamikos.com/room/kost-kota-surabaya-ko...</td>\n",
       "      <td>Kost Singgahsini Rabbani Syariah Tipe A Rungku...</td>\n",
       "      <td>Kecamatan Rungkut</td>\n",
       "      <td>Rp2.525.000</td>\n",
       "      <td>Putri</td>\n",
       "      <td>K Mandi Dalam WiFi AC Kloset Duduk Kasur Akses...</td>\n",
       "      <td>Tidak termasuk listrik</td>\n",
       "      <td>5 x 4 meter</td>\n",
       "    </tr>\n",
       "    <tr>\n",
       "      <th>4</th>\n",
       "      <td>https://mamikos.com/room/kost-kota-surabaya-ko...</td>\n",
       "      <td>Kost Singgahsini Rabbani Syariah Tipe C Rungku...</td>\n",
       "      <td>Kecamatan Rungkut</td>\n",
       "      <td>Rp2.025.000</td>\n",
       "      <td>Putri</td>\n",
       "      <td>K Mandi Dalam WiFi AC Kloset Duduk Kasur Akses...</td>\n",
       "      <td>Tidak termasuk listrik</td>\n",
       "      <td>4 x 4 meter</td>\n",
       "    </tr>\n",
       "    <tr>\n",
       "      <th>...</th>\n",
       "      <td>...</td>\n",
       "      <td>...</td>\n",
       "      <td>...</td>\n",
       "      <td>...</td>\n",
       "      <td>...</td>\n",
       "      <td>...</td>\n",
       "      <td>...</td>\n",
       "      <td>...</td>\n",
       "    </tr>\n",
       "    <tr>\n",
       "      <th>1945</th>\n",
       "      <td>https://mamikos.com/room/kost-kota-surabaya-ko...</td>\n",
       "      <td>Kost Wahana HR Muhammad Dukuhpakis Surabaya</td>\n",
       "      <td>Kecamatan Dukuhpakis</td>\n",
       "      <td>Rp500.000</td>\n",
       "      <td>Putri</td>\n",
       "      <td>Kloset Duduk Kasur</td>\n",
       "      <td>Termasuk listrik</td>\n",
       "      <td>3 x 4 meter</td>\n",
       "    </tr>\n",
       "    <tr>\n",
       "      <th>1946</th>\n",
       "      <td>https://mamikos.com/room/kost-surabaya-kost-pu...</td>\n",
       "      <td>Kost Ciputra Lakarsantri Surabaya</td>\n",
       "      <td>Lakarsantri</td>\n",
       "      <td>Rp1.750.000</td>\n",
       "      <td>Putra</td>\n",
       "      <td>WiFi AC Kloset Duduk Akses 24 Jam</td>\n",
       "      <td>Tidak termasuk listrik</td>\n",
       "      <td>3 x 4 meter</td>\n",
       "    </tr>\n",
       "    <tr>\n",
       "      <th>1947</th>\n",
       "      <td>https://mamikos.com/room/kost-surabaya-kost-pu...</td>\n",
       "      <td>Kost Luke Living Wiyung Surabaya</td>\n",
       "      <td>Wiyung</td>\n",
       "      <td>Rp1.350.000</td>\n",
       "      <td>Putri</td>\n",
       "      <td>K Mandi Dalam WiFi AC Kloset Duduk Kasur</td>\n",
       "      <td>Tidak termasuk listrik</td>\n",
       "      <td>3 x 3 meter</td>\n",
       "    </tr>\n",
       "    <tr>\n",
       "      <th>1948</th>\n",
       "      <td>https://mamikos.com/room/kost-surabaya-kost-ca...</td>\n",
       "      <td>Kost Kolam Keluarga Lontar Sambikerep Surabaya</td>\n",
       "      <td>Sambikerep</td>\n",
       "      <td>Rp10.000.000</td>\n",
       "      <td>Campur</td>\n",
       "      <td>K Mandi Dalam WiFi AC Kloset Duduk Kasur</td>\n",
       "      <td>Termasuk listrik</td>\n",
       "      <td>3 x 3 meter</td>\n",
       "    </tr>\n",
       "    <tr>\n",
       "      <th>1949</th>\n",
       "      <td>https://mamikos.com/room/kost-kota-surabaya-ko...</td>\n",
       "      <td>Kost Muryani Wiyung Surabaya</td>\n",
       "      <td>Kecamatan Wiyung</td>\n",
       "      <td>Rp1.200.000</td>\n",
       "      <td>Putri</td>\n",
       "      <td>WiFi AC Kloset Duduk Kasur</td>\n",
       "      <td>Tidak termasuk listrik</td>\n",
       "      <td>3 x 3 meter</td>\n",
       "    </tr>\n",
       "  </tbody>\n",
       "</table>\n",
       "<p>1950 rows × 8 columns</p>\n",
       "</div>"
      ],
      "text/plain": [
       "                                                   Link  \\\n",
       "0     https://mamikos.com/room/kost-kota-surabaya-ko...   \n",
       "1     https://mamikos.com/room/kost-kota-surabaya-ko...   \n",
       "2     https://mamikos.com/room/kost-kota-surabaya-ko...   \n",
       "3     https://mamikos.com/room/kost-kota-surabaya-ko...   \n",
       "4     https://mamikos.com/room/kost-kota-surabaya-ko...   \n",
       "...                                                 ...   \n",
       "1945  https://mamikos.com/room/kost-kota-surabaya-ko...   \n",
       "1946  https://mamikos.com/room/kost-surabaya-kost-pu...   \n",
       "1947  https://mamikos.com/room/kost-surabaya-kost-pu...   \n",
       "1948  https://mamikos.com/room/kost-surabaya-kost-ca...   \n",
       "1949  https://mamikos.com/room/kost-kota-surabaya-ko...   \n",
       "\n",
       "                                                   Nama                Lokasi  \\\n",
       "0     Kost Singgahsini Rungkut Asri Utara XI Tipe C ...               Rungkut   \n",
       "1     Kost Singgahsini Rungkut Asri Utara XI Tipe A ...               Rungkut   \n",
       "2     Kost Singgahsini Rungkut Asri Utara XI Tipe B ...               Rungkut   \n",
       "3     Kost Singgahsini Rabbani Syariah Tipe A Rungku...     Kecamatan Rungkut   \n",
       "4     Kost Singgahsini Rabbani Syariah Tipe C Rungku...     Kecamatan Rungkut   \n",
       "...                                                 ...                   ...   \n",
       "1945        Kost Wahana HR Muhammad Dukuhpakis Surabaya  Kecamatan Dukuhpakis   \n",
       "1946                  Kost Ciputra Lakarsantri Surabaya           Lakarsantri   \n",
       "1947                   Kost Luke Living Wiyung Surabaya                Wiyung   \n",
       "1948     Kost Kolam Keluarga Lontar Sambikerep Surabaya            Sambikerep   \n",
       "1949                       Kost Muryani Wiyung Surabaya      Kecamatan Wiyung   \n",
       "\n",
       "             Harga   Jenis                                          Fasilitas  \\\n",
       "0        Rp880.000   Putri               WiFi Kloset Duduk Kasur Akses 24 Jam   \n",
       "1      Rp1.275.000   Putri            WiFi AC Kloset Duduk Kasur Akses 24 Jam   \n",
       "2        Rp925.000   Putri               WiFi Kloset Duduk Kasur Akses 24 Jam   \n",
       "3      Rp2.525.000   Putri  K Mandi Dalam WiFi AC Kloset Duduk Kasur Akses...   \n",
       "4      Rp2.025.000   Putri  K Mandi Dalam WiFi AC Kloset Duduk Kasur Akses...   \n",
       "...            ...     ...                                                ...   \n",
       "1945     Rp500.000   Putri                                 Kloset Duduk Kasur   \n",
       "1946   Rp1.750.000   Putra                  WiFi AC Kloset Duduk Akses 24 Jam   \n",
       "1947   Rp1.350.000   Putri           K Mandi Dalam WiFi AC Kloset Duduk Kasur   \n",
       "1948  Rp10.000.000  Campur           K Mandi Dalam WiFi AC Kloset Duduk Kasur   \n",
       "1949   Rp1.200.000   Putri                         WiFi AC Kloset Duduk Kasur   \n",
       "\n",
       "                     Listrik     Luas Kamar  \n",
       "0     Tidak termasuk listrik  2 x 2.5 meter  \n",
       "1     Tidak termasuk listrik  2 x 2.5 meter  \n",
       "2     Tidak termasuk listrik    2 x 3 meter  \n",
       "3     Tidak termasuk listrik    5 x 4 meter  \n",
       "4     Tidak termasuk listrik    4 x 4 meter  \n",
       "...                      ...            ...  \n",
       "1945        Termasuk listrik    3 x 4 meter  \n",
       "1946  Tidak termasuk listrik    3 x 4 meter  \n",
       "1947  Tidak termasuk listrik    3 x 3 meter  \n",
       "1948        Termasuk listrik    3 x 3 meter  \n",
       "1949  Tidak termasuk listrik    3 x 3 meter  \n",
       "\n",
       "[1950 rows x 8 columns]"
      ]
     },
     "execution_count": 7,
     "metadata": {},
     "output_type": "execute_result"
    }
   ],
   "source": [
    "merge"
   ]
  },
  {
   "cell_type": "code",
   "execution_count": 8,
   "metadata": {},
   "outputs": [
    {
     "data": {
      "text/plain": [
       "1030"
      ]
     },
     "execution_count": 8,
     "metadata": {},
     "output_type": "execute_result"
    }
   ],
   "source": [
    "# Melihat jumlah kos unik berdasarkan link\n",
    "merge[\"Link\"].nunique()"
   ]
  },
  {
   "cell_type": "code",
   "execution_count": 9,
   "metadata": {},
   "outputs": [],
   "source": [
    "# Menghapus duplikat berdasarkan kolom 'Link'\n",
    "unique_kos = merge.drop_duplicates(subset=\"Link\")"
   ]
  },
  {
   "cell_type": "code",
   "execution_count": 10,
   "metadata": {},
   "outputs": [
    {
     "data": {
      "text/plain": [
       "(1030, 8)"
      ]
     },
     "execution_count": 10,
     "metadata": {},
     "output_type": "execute_result"
    }
   ],
   "source": [
    "unique_kos.shape"
   ]
  },
  {
   "cell_type": "code",
   "execution_count": 11,
   "metadata": {},
   "outputs": [
    {
     "name": "stdout",
     "output_type": "stream",
     "text": [
      "<class 'pandas.core.frame.DataFrame'>\n",
      "Int64Index: 1030 entries, 0 to 1949\n",
      "Data columns (total 8 columns):\n",
      " #   Column      Non-Null Count  Dtype \n",
      "---  ------      --------------  ----- \n",
      " 0   Link        1030 non-null   object\n",
      " 1   Nama        1030 non-null   object\n",
      " 2   Lokasi      1030 non-null   object\n",
      " 3   Harga       1030 non-null   object\n",
      " 4   Jenis       1030 non-null   object\n",
      " 5   Fasilitas   1027 non-null   object\n",
      " 6   Listrik     1030 non-null   object\n",
      " 7   Luas Kamar  1030 non-null   object\n",
      "dtypes: object(8)\n",
      "memory usage: 72.4+ KB\n"
     ]
    }
   ],
   "source": [
    "unique_kos.info()"
   ]
  },
  {
   "cell_type": "markdown",
   "metadata": {},
   "source": [
    "### CLEANING"
   ]
  },
  {
   "cell_type": "markdown",
   "metadata": {},
   "source": [
    "Proses pembersihan data yang akan dilakukan mencakup:\n",
    "- Menyatukan lokasi yang serupa, misalnya untuk Rungkut dan Kecamatan Rungkut dijadikan satu menjadi Rungkut, dsb.\n",
    "- Menghilangkan tanda Rp. diawal pada data Harga, misal Rp880.000 menjadi 880.000\n",
    "- Memecahkan fasilitas terkait ke dalam beberapa kolom --> Menjadi yes/no `HARD`\n",
    "- Pada kolom luas kamar, hilangkan kata \"meter\", pecah jadi 3 kolom (panjang x lebar) dan luas\n",
    "- Menyesuaikan tipe data"
   ]
  },
  {
   "cell_type": "markdown",
   "metadata": {},
   "source": [
    "-`Menyatukan lokasi yang serupa`"
   ]
  },
  {
   "cell_type": "code",
   "execution_count": 12,
   "metadata": {},
   "outputs": [
    {
     "data": {
      "text/plain": [
       "array(['Rungkut', 'Kecamatan Rungkut', 'Waru', 'Kecamatan Waru',\n",
       "       'Kecamatan Gunung Anyar', 'Gunung Anyar', 'Gubeng', 'Wonokromo',\n",
       "       'Kecamatan Gubeng', 'Kecamatan Tambaksari', 'Tambaksari',\n",
       "       'Genteng', 'Kecamatan Tegalsari', 'Tegalsari',\n",
       "       'Kecamatan Mulyorejo', 'Sukolilo', 'Kecamatan Genteng',\n",
       "       'Mulyorejo', 'Kecamatan Sukolilo', 'Gayungan', 'Wonocolo',\n",
       "       'Kecamatan Wonokromo', 'Kecamatan Jambangan', 'Karang Pilang',\n",
       "       'Kecamatan Dukuhpakis', 'Jambangan', 'Dukuh Pakis',\n",
       "       'Kecamatan Wonocolo', 'Tenggilis Mejoyo', 'Kecamatan Gayungan',\n",
       "       'Kecamatan Karangpilang', 'Kecamatan Tenggilis Mejoyo',\n",
       "       'Kecamatan Karang Pilang', 'Wiyung', 'Kecamatan Lakarsantri',\n",
       "       'Kecamatan Wiyung', 'Sambikerep', 'Lakarsantri',\n",
       "       'Kecamatan Sambikerep'], dtype=object)"
      ]
     },
     "execution_count": 12,
     "metadata": {},
     "output_type": "execute_result"
    }
   ],
   "source": [
    "unique_kos['Lokasi'].unique()"
   ]
  },
  {
   "cell_type": "code",
   "execution_count": 13,
   "metadata": {},
   "outputs": [
    {
     "data": {
      "text/plain": [
       "39"
      ]
     },
     "execution_count": 13,
     "metadata": {},
     "output_type": "execute_result"
    }
   ],
   "source": [
    "unique_kos['Lokasi'].nunique()"
   ]
  },
  {
   "cell_type": "code",
   "execution_count": 14,
   "metadata": {},
   "outputs": [
    {
     "name": "stderr",
     "output_type": "stream",
     "text": [
      "<ipython-input-14-d8e31457f710>:2: SettingWithCopyWarning: \n",
      "A value is trying to be set on a copy of a slice from a DataFrame.\n",
      "Try using .loc[row_indexer,col_indexer] = value instead\n",
      "\n",
      "See the caveats in the documentation: https://pandas.pydata.org/pandas-docs/stable/user_guide/indexing.html#returning-a-view-versus-a-copy\n",
      "  unique_kos['Lokasi'] = unique_kos['Lokasi'].str.replace(r\"Kecamatan \", \"\", regex=True)\n"
     ]
    }
   ],
   "source": [
    "# Hapus kata kecamatan\n",
    "unique_kos['Lokasi'] = unique_kos['Lokasi'].str.replace(r\"Kecamatan \", \"\", regex=True)"
   ]
  },
  {
   "cell_type": "code",
   "execution_count": 15,
   "metadata": {},
   "outputs": [
    {
     "data": {
      "text/plain": [
       "array(['Rungkut', 'Waru', 'Gunung Anyar', 'Gubeng', 'Wonokromo',\n",
       "       'Tambaksari', 'Genteng', 'Tegalsari', 'Mulyorejo', 'Sukolilo',\n",
       "       'Gayungan', 'Wonocolo', 'Jambangan', 'Karang Pilang', 'Dukuhpakis',\n",
       "       'Dukuh Pakis', 'Tenggilis Mejoyo', 'Karangpilang', 'Wiyung',\n",
       "       'Lakarsantri', 'Sambikerep'], dtype=object)"
      ]
     },
     "execution_count": 15,
     "metadata": {},
     "output_type": "execute_result"
    }
   ],
   "source": [
    "unique_kos['Lokasi'].unique()"
   ]
  },
  {
   "cell_type": "code",
   "execution_count": 16,
   "metadata": {},
   "outputs": [
    {
     "name": "stderr",
     "output_type": "stream",
     "text": [
      "<ipython-input-16-6da7d008c3bc>:2: SettingWithCopyWarning: \n",
      "A value is trying to be set on a copy of a slice from a DataFrame.\n",
      "Try using .loc[row_indexer,col_indexer] = value instead\n",
      "\n",
      "See the caveats in the documentation: https://pandas.pydata.org/pandas-docs/stable/user_guide/indexing.html#returning-a-view-versus-a-copy\n",
      "  unique_kos[\"Lokasi\"] = unique_kos[\"Lokasi\"].replace({\n"
     ]
    }
   ],
   "source": [
    "# Mengganti nilai spesifik dalam kolom 'Lokasi'\n",
    "unique_kos[\"Lokasi\"] = unique_kos[\"Lokasi\"].replace({\n",
    "    'Karangpilang': 'Karang Pilang',\n",
    "    'Dukuhpakis': 'Dukuh Pakis'\n",
    "})"
   ]
  },
  {
   "cell_type": "code",
   "execution_count": 17,
   "metadata": {},
   "outputs": [
    {
     "data": {
      "text/plain": [
       "array(['Rungkut', 'Waru', 'Gunung Anyar', 'Gubeng', 'Wonokromo',\n",
       "       'Tambaksari', 'Genteng', 'Tegalsari', 'Mulyorejo', 'Sukolilo',\n",
       "       'Gayungan', 'Wonocolo', 'Jambangan', 'Karang Pilang',\n",
       "       'Dukuh Pakis', 'Tenggilis Mejoyo', 'Wiyung', 'Lakarsantri',\n",
       "       'Sambikerep'], dtype=object)"
      ]
     },
     "execution_count": 17,
     "metadata": {},
     "output_type": "execute_result"
    }
   ],
   "source": [
    "unique_kos['Lokasi'].unique()"
   ]
  },
  {
   "cell_type": "markdown",
   "metadata": {},
   "source": [
    "-`Menghilangkan tanda Rp. diawal pada data Harga, misal Rp880.000 menjadi 880.000`"
   ]
  },
  {
   "cell_type": "code",
   "execution_count": 18,
   "metadata": {},
   "outputs": [
    {
     "name": "stderr",
     "output_type": "stream",
     "text": [
      "<ipython-input-18-0f5f9c172344>:1: SettingWithCopyWarning: \n",
      "A value is trying to be set on a copy of a slice from a DataFrame.\n",
      "Try using .loc[row_indexer,col_indexer] = value instead\n",
      "\n",
      "See the caveats in the documentation: https://pandas.pydata.org/pandas-docs/stable/user_guide/indexing.html#returning-a-view-versus-a-copy\n",
      "  unique_kos[\"Harga\"] = unique_kos[\"Harga\"].str.replace(r\"Rp\", \"\", regex=True)\n"
     ]
    }
   ],
   "source": [
    "unique_kos[\"Harga\"] = unique_kos[\"Harga\"].str.replace(r\"Rp\", \"\", regex=True)"
   ]
  },
  {
   "cell_type": "code",
   "execution_count": 19,
   "metadata": {},
   "outputs": [
    {
     "name": "stderr",
     "output_type": "stream",
     "text": [
      "<ipython-input-19-a7b9d4b832a3>:2: SettingWithCopyWarning: \n",
      "A value is trying to be set on a copy of a slice from a DataFrame.\n",
      "Try using .loc[row_indexer,col_indexer] = value instead\n",
      "\n",
      "See the caveats in the documentation: https://pandas.pydata.org/pandas-docs/stable/user_guide/indexing.html#returning-a-view-versus-a-copy\n",
      "  unique_kos['Harga'] = unique_kos['Harga'].str.replace('.', '')\n",
      "<ipython-input-19-a7b9d4b832a3>:5: SettingWithCopyWarning: \n",
      "A value is trying to be set on a copy of a slice from a DataFrame.\n",
      "Try using .loc[row_indexer,col_indexer] = value instead\n",
      "\n",
      "See the caveats in the documentation: https://pandas.pydata.org/pandas-docs/stable/user_guide/indexing.html#returning-a-view-versus-a-copy\n",
      "  unique_kos['Harga'] = pd.to_numeric(unique_kos['Harga'])\n"
     ]
    }
   ],
   "source": [
    "# Menghapus titik dari kolom 'Harga'\n",
    "unique_kos['Harga'] = unique_kos['Harga'].str.replace('.', '')\n",
    "\n",
    "# Konversi 'Harga' ke tipe data numerik\n",
    "unique_kos['Harga'] = pd.to_numeric(unique_kos['Harga'])"
   ]
  },
  {
   "cell_type": "code",
   "execution_count": 20,
   "metadata": {},
   "outputs": [
    {
     "data": {
      "text/html": [
       "<div>\n",
       "<style scoped>\n",
       "    .dataframe tbody tr th:only-of-type {\n",
       "        vertical-align: middle;\n",
       "    }\n",
       "\n",
       "    .dataframe tbody tr th {\n",
       "        vertical-align: top;\n",
       "    }\n",
       "\n",
       "    .dataframe thead th {\n",
       "        text-align: right;\n",
       "    }\n",
       "</style>\n",
       "<table border=\"1\" class=\"dataframe\">\n",
       "  <thead>\n",
       "    <tr style=\"text-align: right;\">\n",
       "      <th></th>\n",
       "      <th>Link</th>\n",
       "      <th>Nama</th>\n",
       "      <th>Lokasi</th>\n",
       "      <th>Harga</th>\n",
       "      <th>Jenis</th>\n",
       "      <th>Fasilitas</th>\n",
       "      <th>Listrik</th>\n",
       "      <th>Luas Kamar</th>\n",
       "    </tr>\n",
       "  </thead>\n",
       "  <tbody>\n",
       "    <tr>\n",
       "      <th>0</th>\n",
       "      <td>https://mamikos.com/room/kost-kota-surabaya-ko...</td>\n",
       "      <td>Kost Singgahsini Rungkut Asri Utara XI Tipe C ...</td>\n",
       "      <td>Rungkut</td>\n",
       "      <td>880000</td>\n",
       "      <td>Putri</td>\n",
       "      <td>WiFi Kloset Duduk Kasur Akses 24 Jam</td>\n",
       "      <td>Tidak termasuk listrik</td>\n",
       "      <td>2 x 2.5 meter</td>\n",
       "    </tr>\n",
       "    <tr>\n",
       "      <th>1</th>\n",
       "      <td>https://mamikos.com/room/kost-kota-surabaya-ko...</td>\n",
       "      <td>Kost Singgahsini Rungkut Asri Utara XI Tipe A ...</td>\n",
       "      <td>Rungkut</td>\n",
       "      <td>1275000</td>\n",
       "      <td>Putri</td>\n",
       "      <td>WiFi AC Kloset Duduk Kasur Akses 24 Jam</td>\n",
       "      <td>Tidak termasuk listrik</td>\n",
       "      <td>2 x 2.5 meter</td>\n",
       "    </tr>\n",
       "    <tr>\n",
       "      <th>2</th>\n",
       "      <td>https://mamikos.com/room/kost-kota-surabaya-ko...</td>\n",
       "      <td>Kost Singgahsini Rungkut Asri Utara XI Tipe B ...</td>\n",
       "      <td>Rungkut</td>\n",
       "      <td>925000</td>\n",
       "      <td>Putri</td>\n",
       "      <td>WiFi Kloset Duduk Kasur Akses 24 Jam</td>\n",
       "      <td>Tidak termasuk listrik</td>\n",
       "      <td>2 x 3 meter</td>\n",
       "    </tr>\n",
       "    <tr>\n",
       "      <th>3</th>\n",
       "      <td>https://mamikos.com/room/kost-kota-surabaya-ko...</td>\n",
       "      <td>Kost Singgahsini Rabbani Syariah Tipe A Rungku...</td>\n",
       "      <td>Rungkut</td>\n",
       "      <td>2525000</td>\n",
       "      <td>Putri</td>\n",
       "      <td>K Mandi Dalam WiFi AC Kloset Duduk Kasur Akses...</td>\n",
       "      <td>Tidak termasuk listrik</td>\n",
       "      <td>5 x 4 meter</td>\n",
       "    </tr>\n",
       "    <tr>\n",
       "      <th>4</th>\n",
       "      <td>https://mamikos.com/room/kost-kota-surabaya-ko...</td>\n",
       "      <td>Kost Singgahsini Rabbani Syariah Tipe C Rungku...</td>\n",
       "      <td>Rungkut</td>\n",
       "      <td>2025000</td>\n",
       "      <td>Putri</td>\n",
       "      <td>K Mandi Dalam WiFi AC Kloset Duduk Kasur Akses...</td>\n",
       "      <td>Tidak termasuk listrik</td>\n",
       "      <td>4 x 4 meter</td>\n",
       "    </tr>\n",
       "  </tbody>\n",
       "</table>\n",
       "</div>"
      ],
      "text/plain": [
       "                                                Link  \\\n",
       "0  https://mamikos.com/room/kost-kota-surabaya-ko...   \n",
       "1  https://mamikos.com/room/kost-kota-surabaya-ko...   \n",
       "2  https://mamikos.com/room/kost-kota-surabaya-ko...   \n",
       "3  https://mamikos.com/room/kost-kota-surabaya-ko...   \n",
       "4  https://mamikos.com/room/kost-kota-surabaya-ko...   \n",
       "\n",
       "                                                Nama   Lokasi    Harga  Jenis  \\\n",
       "0  Kost Singgahsini Rungkut Asri Utara XI Tipe C ...  Rungkut   880000  Putri   \n",
       "1  Kost Singgahsini Rungkut Asri Utara XI Tipe A ...  Rungkut  1275000  Putri   \n",
       "2  Kost Singgahsini Rungkut Asri Utara XI Tipe B ...  Rungkut   925000  Putri   \n",
       "3  Kost Singgahsini Rabbani Syariah Tipe A Rungku...  Rungkut  2525000  Putri   \n",
       "4  Kost Singgahsini Rabbani Syariah Tipe C Rungku...  Rungkut  2025000  Putri   \n",
       "\n",
       "                                           Fasilitas                 Listrik  \\\n",
       "0               WiFi Kloset Duduk Kasur Akses 24 Jam  Tidak termasuk listrik   \n",
       "1            WiFi AC Kloset Duduk Kasur Akses 24 Jam  Tidak termasuk listrik   \n",
       "2               WiFi Kloset Duduk Kasur Akses 24 Jam  Tidak termasuk listrik   \n",
       "3  K Mandi Dalam WiFi AC Kloset Duduk Kasur Akses...  Tidak termasuk listrik   \n",
       "4  K Mandi Dalam WiFi AC Kloset Duduk Kasur Akses...  Tidak termasuk listrik   \n",
       "\n",
       "      Luas Kamar  \n",
       "0  2 x 2.5 meter  \n",
       "1  2 x 2.5 meter  \n",
       "2    2 x 3 meter  \n",
       "3    5 x 4 meter  \n",
       "4    4 x 4 meter  "
      ]
     },
     "execution_count": 20,
     "metadata": {},
     "output_type": "execute_result"
    }
   ],
   "source": [
    "unique_kos.head()"
   ]
  },
  {
   "cell_type": "markdown",
   "metadata": {},
   "source": [
    "`Memecahkan fasilitas terkait ke dalam beberapa kolom --> Menjadi yes/no`"
   ]
  },
  {
   "cell_type": "code",
   "execution_count": 21,
   "metadata": {},
   "outputs": [
    {
     "data": {
      "text/plain": [
       "array(['WiFi Kloset Duduk Kasur Akses 24 Jam',\n",
       "       'WiFi AC Kloset Duduk Kasur Akses 24 Jam',\n",
       "       'K Mandi Dalam WiFi AC Kloset Duduk Kasur Akses 24 Jam',\n",
       "       'K Mandi Dalam WiFi AC Kloset Duduk Kasur',\n",
       "       'K Mandi Dalam WiFi Kloset Duduk Kasur Akses 24 Jam',\n",
       "       'K Mandi Dalam WiFi AC Kasur Akses 24 Jam',\n",
       "       'K Mandi Dalam WiFi AC Kloset Duduk Akses 24 Jam',\n",
       "       'WiFi AC Kasur Akses 24 Jam', 'AC Kloset Duduk Kasur Akses 24 Jam',\n",
       "       'WiFi AC Kloset Duduk Kasur', 'AC Kloset Duduk Kasur',\n",
       "       'WiFi Kloset Duduk Kasur', 'WiFi Kasur Akses 24 Jam',\n",
       "       'K Mandi Dalam AC Kloset Duduk Kasur',\n",
       "       'Kloset Duduk Kasur Akses 24 Jam',\n",
       "       'K Mandi Dalam WiFi AC Akses 24 Jam', 'K Mandi Dalam WiFi Kasur',\n",
       "       'K Mandi Dalam WiFi Kasur Akses 24 Jam', 'WiFi Kasur',\n",
       "       'K Mandi Dalam AC Kloset Duduk Kasur Akses 24 Jam',\n",
       "       'K Mandi Dalam WiFi AC Kasur', 'K Mandi Dalam Kloset Duduk Kasur',\n",
       "       'K Mandi Dalam Kasur Akses 24 Jam',\n",
       "       'K Mandi Dalam WiFi Kloset Duduk', 'WiFi Kloset Duduk',\n",
       "       'Kasur Akses 24 Jam',\n",
       "       'K Mandi Dalam Kloset Duduk Kasur Akses 24 Jam',\n",
       "       'K Mandi Dalam Kloset Duduk Akses 24 Jam', nan, 'Kasur',\n",
       "       'K Mandi Dalam', 'K Mandi Dalam WiFi Akses 24 Jam',\n",
       "       'WiFi Akses 24 Jam', 'K Mandi Dalam WiFi Kloset Duduk Kasur',\n",
       "       'K Mandi Dalam Kasur', 'K Mandi Dalam Akses 24 Jam',\n",
       "       'K Mandi Dalam WiFi AC Kloset Duduk', 'Kloset Duduk Kasur',\n",
       "       'Kloset Duduk Akses 24 Jam',\n",
       "       'K Mandi Dalam AC Kloset Duduk Akses 24 Jam',\n",
       "       'K Mandi Dalam AC Kasur Akses 24 Jam', 'WiFi AC Kasur',\n",
       "       'AC Kasur Akses 24 Jam', 'WiFi Kloset Duduk Akses 24 Jam',\n",
       "       'Kloset Duduk', 'Akses 24 Jam', 'AC Kloset Duduk',\n",
       "       'WiFi AC Kloset Duduk Akses 24 Jam',\n",
       "       'AC Kloset Duduk Akses 24 Jam', 'K Mandi Dalam Kloset Duduk',\n",
       "       'K Mandi Dalam WiFi AC', 'WiFi', 'K Mandi Dalam AC Kasur',\n",
       "       'WiFi AC Kloset Duduk', 'K Mandi Dalam WiFi',\n",
       "       'K Mandi Dalam AC Akses 24 Jam'], dtype=object)"
      ]
     },
     "execution_count": 21,
     "metadata": {},
     "output_type": "execute_result"
    }
   ],
   "source": [
    "unique_kos[\"Fasilitas\"].unique()"
   ]
  },
  {
   "cell_type": "markdown",
   "metadata": {},
   "source": [
    "- Buat daftar fasilitas yang ingin ditambahkan sebagai kolom, \"K Mandi Dalam\", \"AC\", \"WiFi\", \"Kasur\", \"Akses 24 Jam\".\n",
    "- Untuk masing-masing kolom tersebut, lakukan pengecekan pada kolom df[\"Fasilitas\"] apakah memuat fasilitas yang bersangkutan. Jika iya, isi kolom dengan 'Yes', jika tidak, isi dengan 'No'."
   ]
  },
  {
   "cell_type": "code",
   "execution_count": 22,
   "metadata": {},
   "outputs": [
    {
     "name": "stderr",
     "output_type": "stream",
     "text": [
      "<ipython-input-22-2a80c7f21a1e>:5: SettingWithCopyWarning: \n",
      "A value is trying to be set on a copy of a slice from a DataFrame.\n",
      "Try using .loc[row_indexer,col_indexer] = value instead\n",
      "\n",
      "See the caveats in the documentation: https://pandas.pydata.org/pandas-docs/stable/user_guide/indexing.html#returning-a-view-versus-a-copy\n",
      "  unique_kos[\"Fasilitas\"] = unique_kos[\"Fasilitas\"].fillna('')\n",
      "<ipython-input-22-2a80c7f21a1e>:9: SettingWithCopyWarning: \n",
      "A value is trying to be set on a copy of a slice from a DataFrame.\n",
      "Try using .loc[row_indexer,col_indexer] = value instead\n",
      "\n",
      "See the caveats in the documentation: https://pandas.pydata.org/pandas-docs/stable/user_guide/indexing.html#returning-a-view-versus-a-copy\n",
      "  unique_kos[fasilitas] = 'No'\n",
      "<ipython-input-22-2a80c7f21a1e>:13: SettingWithCopyWarning: \n",
      "A value is trying to be set on a copy of a slice from a DataFrame.\n",
      "Try using .loc[row_indexer,col_indexer] = value instead\n",
      "\n",
      "See the caveats in the documentation: https://pandas.pydata.org/pandas-docs/stable/user_guide/indexing.html#returning-a-view-versus-a-copy\n",
      "  unique_kos[fasilitas] = unique_kos[\"Fasilitas\"].apply(lambda x: 'Yes' if fasilitas in x else 'No')\n"
     ]
    }
   ],
   "source": [
    "# Daftar fasilitas yang ingin dijadikan kolom\n",
    "fasilitas_list = [\"K Mandi Dalam\", \"AC\", \"WiFi\", \"Kasur\", \"Akses 24 Jam\"]\n",
    "\n",
    "# Mengganti nilai NaN dengan string kosong\n",
    "unique_kos[\"Fasilitas\"] = unique_kos[\"Fasilitas\"].fillna('')\n",
    "\n",
    "# Membuat kolom baru untuk setiap fasilitas dengan nilai No\n",
    "for fasilitas in fasilitas_list:\n",
    "    unique_kos[fasilitas] = 'No'\n",
    "\n",
    "# Mengisi nilai Yes/No berdasarkan keberadaan fasilitas dalam setiap baris\n",
    "for fasilitas in fasilitas_list:\n",
    "    unique_kos[fasilitas] = unique_kos[\"Fasilitas\"].apply(lambda x: 'Yes' if fasilitas in x else 'No')\n",
    "\n",
    "# lambda x: 'Yes' if fasilitas in x else 'No' adalah fungsi yang mengambil setiap elemen x dari kolom \"Fasilitas\" \n",
    "# dan mengecek apakah string fasilitas ada dalam x. INGAT! ITU fasilitas_list LIST jadi bisa di looping"
   ]
  },
  {
   "cell_type": "code",
   "execution_count": 23,
   "metadata": {},
   "outputs": [
    {
     "data": {
      "text/html": [
       "<div>\n",
       "<style scoped>\n",
       "    .dataframe tbody tr th:only-of-type {\n",
       "        vertical-align: middle;\n",
       "    }\n",
       "\n",
       "    .dataframe tbody tr th {\n",
       "        vertical-align: top;\n",
       "    }\n",
       "\n",
       "    .dataframe thead th {\n",
       "        text-align: right;\n",
       "    }\n",
       "</style>\n",
       "<table border=\"1\" class=\"dataframe\">\n",
       "  <thead>\n",
       "    <tr style=\"text-align: right;\">\n",
       "      <th></th>\n",
       "      <th>Link</th>\n",
       "      <th>Nama</th>\n",
       "      <th>Lokasi</th>\n",
       "      <th>Harga</th>\n",
       "      <th>Jenis</th>\n",
       "      <th>Fasilitas</th>\n",
       "      <th>Listrik</th>\n",
       "      <th>Luas Kamar</th>\n",
       "      <th>K Mandi Dalam</th>\n",
       "      <th>AC</th>\n",
       "      <th>WiFi</th>\n",
       "      <th>Kasur</th>\n",
       "      <th>Akses 24 Jam</th>\n",
       "    </tr>\n",
       "  </thead>\n",
       "  <tbody>\n",
       "    <tr>\n",
       "      <th>0</th>\n",
       "      <td>https://mamikos.com/room/kost-kota-surabaya-ko...</td>\n",
       "      <td>Kost Singgahsini Rungkut Asri Utara XI Tipe C ...</td>\n",
       "      <td>Rungkut</td>\n",
       "      <td>880000</td>\n",
       "      <td>Putri</td>\n",
       "      <td>WiFi Kloset Duduk Kasur Akses 24 Jam</td>\n",
       "      <td>Tidak termasuk listrik</td>\n",
       "      <td>2 x 2.5 meter</td>\n",
       "      <td>No</td>\n",
       "      <td>No</td>\n",
       "      <td>Yes</td>\n",
       "      <td>Yes</td>\n",
       "      <td>Yes</td>\n",
       "    </tr>\n",
       "    <tr>\n",
       "      <th>1</th>\n",
       "      <td>https://mamikos.com/room/kost-kota-surabaya-ko...</td>\n",
       "      <td>Kost Singgahsini Rungkut Asri Utara XI Tipe A ...</td>\n",
       "      <td>Rungkut</td>\n",
       "      <td>1275000</td>\n",
       "      <td>Putri</td>\n",
       "      <td>WiFi AC Kloset Duduk Kasur Akses 24 Jam</td>\n",
       "      <td>Tidak termasuk listrik</td>\n",
       "      <td>2 x 2.5 meter</td>\n",
       "      <td>No</td>\n",
       "      <td>Yes</td>\n",
       "      <td>Yes</td>\n",
       "      <td>Yes</td>\n",
       "      <td>Yes</td>\n",
       "    </tr>\n",
       "    <tr>\n",
       "      <th>2</th>\n",
       "      <td>https://mamikos.com/room/kost-kota-surabaya-ko...</td>\n",
       "      <td>Kost Singgahsini Rungkut Asri Utara XI Tipe B ...</td>\n",
       "      <td>Rungkut</td>\n",
       "      <td>925000</td>\n",
       "      <td>Putri</td>\n",
       "      <td>WiFi Kloset Duduk Kasur Akses 24 Jam</td>\n",
       "      <td>Tidak termasuk listrik</td>\n",
       "      <td>2 x 3 meter</td>\n",
       "      <td>No</td>\n",
       "      <td>No</td>\n",
       "      <td>Yes</td>\n",
       "      <td>Yes</td>\n",
       "      <td>Yes</td>\n",
       "    </tr>\n",
       "    <tr>\n",
       "      <th>3</th>\n",
       "      <td>https://mamikos.com/room/kost-kota-surabaya-ko...</td>\n",
       "      <td>Kost Singgahsini Rabbani Syariah Tipe A Rungku...</td>\n",
       "      <td>Rungkut</td>\n",
       "      <td>2525000</td>\n",
       "      <td>Putri</td>\n",
       "      <td>K Mandi Dalam WiFi AC Kloset Duduk Kasur Akses...</td>\n",
       "      <td>Tidak termasuk listrik</td>\n",
       "      <td>5 x 4 meter</td>\n",
       "      <td>Yes</td>\n",
       "      <td>Yes</td>\n",
       "      <td>Yes</td>\n",
       "      <td>Yes</td>\n",
       "      <td>Yes</td>\n",
       "    </tr>\n",
       "    <tr>\n",
       "      <th>4</th>\n",
       "      <td>https://mamikos.com/room/kost-kota-surabaya-ko...</td>\n",
       "      <td>Kost Singgahsini Rabbani Syariah Tipe C Rungku...</td>\n",
       "      <td>Rungkut</td>\n",
       "      <td>2025000</td>\n",
       "      <td>Putri</td>\n",
       "      <td>K Mandi Dalam WiFi AC Kloset Duduk Kasur Akses...</td>\n",
       "      <td>Tidak termasuk listrik</td>\n",
       "      <td>4 x 4 meter</td>\n",
       "      <td>Yes</td>\n",
       "      <td>Yes</td>\n",
       "      <td>Yes</td>\n",
       "      <td>Yes</td>\n",
       "      <td>Yes</td>\n",
       "    </tr>\n",
       "  </tbody>\n",
       "</table>\n",
       "</div>"
      ],
      "text/plain": [
       "                                                Link  \\\n",
       "0  https://mamikos.com/room/kost-kota-surabaya-ko...   \n",
       "1  https://mamikos.com/room/kost-kota-surabaya-ko...   \n",
       "2  https://mamikos.com/room/kost-kota-surabaya-ko...   \n",
       "3  https://mamikos.com/room/kost-kota-surabaya-ko...   \n",
       "4  https://mamikos.com/room/kost-kota-surabaya-ko...   \n",
       "\n",
       "                                                Nama   Lokasi    Harga  Jenis  \\\n",
       "0  Kost Singgahsini Rungkut Asri Utara XI Tipe C ...  Rungkut   880000  Putri   \n",
       "1  Kost Singgahsini Rungkut Asri Utara XI Tipe A ...  Rungkut  1275000  Putri   \n",
       "2  Kost Singgahsini Rungkut Asri Utara XI Tipe B ...  Rungkut   925000  Putri   \n",
       "3  Kost Singgahsini Rabbani Syariah Tipe A Rungku...  Rungkut  2525000  Putri   \n",
       "4  Kost Singgahsini Rabbani Syariah Tipe C Rungku...  Rungkut  2025000  Putri   \n",
       "\n",
       "                                           Fasilitas                 Listrik  \\\n",
       "0               WiFi Kloset Duduk Kasur Akses 24 Jam  Tidak termasuk listrik   \n",
       "1            WiFi AC Kloset Duduk Kasur Akses 24 Jam  Tidak termasuk listrik   \n",
       "2               WiFi Kloset Duduk Kasur Akses 24 Jam  Tidak termasuk listrik   \n",
       "3  K Mandi Dalam WiFi AC Kloset Duduk Kasur Akses...  Tidak termasuk listrik   \n",
       "4  K Mandi Dalam WiFi AC Kloset Duduk Kasur Akses...  Tidak termasuk listrik   \n",
       "\n",
       "      Luas Kamar K Mandi Dalam   AC WiFi Kasur Akses 24 Jam  \n",
       "0  2 x 2.5 meter            No   No  Yes   Yes          Yes  \n",
       "1  2 x 2.5 meter            No  Yes  Yes   Yes          Yes  \n",
       "2    2 x 3 meter            No   No  Yes   Yes          Yes  \n",
       "3    5 x 4 meter           Yes  Yes  Yes   Yes          Yes  \n",
       "4    4 x 4 meter           Yes  Yes  Yes   Yes          Yes  "
      ]
     },
     "execution_count": 23,
     "metadata": {},
     "output_type": "execute_result"
    }
   ],
   "source": [
    "unique_kos.head()"
   ]
  },
  {
   "cell_type": "markdown",
   "metadata": {},
   "source": [
    "`Pada kolom luas kamar, hilangkan kata \"meter\", pecah jadi 3 kolom (panjang x lebar) dan luas`"
   ]
  },
  {
   "cell_type": "code",
   "execution_count": 24,
   "metadata": {},
   "outputs": [
    {
     "data": {
      "text/plain": [
       "array(['2 x 2.5 meter', '2 x 3 meter', '5 x 4 meter', '4 x 4 meter',\n",
       "       '4 x 5 meter', '3 x 3 meter', '3 x 4 meter', '3 x 8 meter',\n",
       "       '3 x 4.5 meter', '3 x 5 meter', '2.5 x 3 meter', '3 x 3.5 meter',\n",
       "       '3 x 5m meter', '3.2 x 3.5 meter', '3.7 x 4.7 meter',\n",
       "       '3.7 x 4.5 meter', '2.2 x 4.5 meter', '2.2 x 6 meter',\n",
       "       '3.5 x 4.5 meter', '3.5 x 4 meter', '2 x 2 meter', '3 x 6 meter',\n",
       "       '4 x 4.5 meter', '3.5 x 3.5 meter', '2.5 x 2.5 meter',\n",
       "       '3 x 2 meter', '5 x 6 meter', '2.5 x 4 meter', '4 x 3 meter',\n",
       "       '2.5 x 3.5 meter', '4 x 6 meter', '2.2 x 3.2 meter',\n",
       "       '3 x 2.5 meter', '3 x 7 meter', '5 x 3 meter', '2.9 x 3.7 meter',\n",
       "       '6 x 10 meter', '2.4 x 2.8 meter', '2 x 3.5 meter',\n",
       "       '2.7 x 2.2 meter', '3.0 x 2.5 meter', '2.2 x 3.3 meter',\n",
       "       '2 x 4.2 meter', '2.8 x 3 meter', '5.2 x 3 meter',\n",
       "       '3.5 x 7.5 meter', '3.8 x 2.3 meter', '3.4 x 3.9 meter',\n",
       "       '4 x 12 meter', '2.5 x 5 meter', '2.5 x 2 meter', '4 x 8 meter',\n",
       "       '3 x 3 Meter meter', '7 x 7 meter', '3.0 x 3.5 meter',\n",
       "       '2.5 x 2.2 meter', '3 x 9 meter', '2.3 x 2.5 meter',\n",
       "       '2.7 x 4 meter', '5 x 5 meter', '2.7 x 2.8 meter', '2.4 x 3 meter',\n",
       "       '1.5 x 2.5 meter', '3.2 x 2.8 meter', '4.5 x 3 meter',\n",
       "       '3 x 2.3 meter', '3 x 5.5 meter', '3 x 2.7 meter', '3 x 3.6 meter',\n",
       "       '4 x 2.5 meter', '2.7 x 3 meter', '5.5 x 6 meter',\n",
       "       '3.3 x 3.5 meter', '3.7 x 3.7 meter', '6 x 3 meter',\n",
       "       '04 x 06 meter', '6 x 5 meter', '4 x 2 meter', '2 x 5 meter',\n",
       "       '3 x 3.7 meter', '4.5 x 4.5 meter', '2,5 x 3,5 meter',\n",
       "       '3 x 3,5 meter', '3 x 1,75 meter', '03 x 5 meter', '8 x 15 meter',\n",
       "       '6.5 x 3.5 meter', '1,5 x 3 meter', '3.7 x 4.1 meter',\n",
       "       '9 x 9 meter', '3.4 x 3.4 meter'], dtype=object)"
      ]
     },
     "execution_count": 24,
     "metadata": {},
     "output_type": "execute_result"
    }
   ],
   "source": [
    "unique_kos[\"Luas Kamar\"].unique()"
   ]
  },
  {
   "cell_type": "code",
   "execution_count": 25,
   "metadata": {},
   "outputs": [
    {
     "name": "stderr",
     "output_type": "stream",
     "text": [
      "D:\\anaconda\\lib\\site-packages\\pandas\\core\\frame.py:2963: SettingWithCopyWarning: \n",
      "A value is trying to be set on a copy of a slice from a DataFrame.\n",
      "Try using .loc[row_indexer,col_indexer] = value instead\n",
      "\n",
      "See the caveats in the documentation: https://pandas.pydata.org/pandas-docs/stable/user_guide/indexing.html#returning-a-view-versus-a-copy\n",
      "  self[k1] = value[k2]\n"
     ]
    }
   ],
   "source": [
    "unique_kos[[\"Panjang Kamar\", \"Lebar Kamar\"]] = unique_kos[\"Luas Kamar\"].str.replace(\" meter\", \"\").str.split(\" x \", expand=True)\n",
    "# expand = True untuk menjadikan dia sebagai kolom"
   ]
  },
  {
   "cell_type": "code",
   "execution_count": 26,
   "metadata": {},
   "outputs": [
    {
     "data": {
      "text/plain": [
       "Link             object\n",
       "Nama             object\n",
       "Lokasi           object\n",
       "Harga             int64\n",
       "Jenis            object\n",
       "Fasilitas        object\n",
       "Listrik          object\n",
       "Luas Kamar       object\n",
       "K Mandi Dalam    object\n",
       "AC               object\n",
       "WiFi             object\n",
       "Kasur            object\n",
       "Akses 24 Jam     object\n",
       "Panjang Kamar    object\n",
       "Lebar Kamar      object\n",
       "dtype: object"
      ]
     },
     "execution_count": 26,
     "metadata": {},
     "output_type": "execute_result"
    }
   ],
   "source": [
    "unique_kos.dtypes"
   ]
  },
  {
   "cell_type": "code",
   "execution_count": 27,
   "metadata": {},
   "outputs": [
    {
     "name": "stderr",
     "output_type": "stream",
     "text": [
      "<ipython-input-27-3e7b926a6e0c>:2: SettingWithCopyWarning: \n",
      "A value is trying to be set on a copy of a slice from a DataFrame.\n",
      "Try using .loc[row_indexer,col_indexer] = value instead\n",
      "\n",
      "See the caveats in the documentation: https://pandas.pydata.org/pandas-docs/stable/user_guide/indexing.html#returning-a-view-versus-a-copy\n",
      "  unique_kos['Panjang Kamar'] = pd.to_numeric(unique_kos['Panjang Kamar'], errors='coerce')\n",
      "<ipython-input-27-3e7b926a6e0c>:3: SettingWithCopyWarning: \n",
      "A value is trying to be set on a copy of a slice from a DataFrame.\n",
      "Try using .loc[row_indexer,col_indexer] = value instead\n",
      "\n",
      "See the caveats in the documentation: https://pandas.pydata.org/pandas-docs/stable/user_guide/indexing.html#returning-a-view-versus-a-copy\n",
      "  unique_kos['Lebar Kamar'] = pd.to_numeric(unique_kos['Lebar Kamar'], errors='coerce')\n"
     ]
    }
   ],
   "source": [
    "# Konversi ke tipe data numerik supaya kita bisa mengalikan keduanya\n",
    "unique_kos['Panjang Kamar'] = pd.to_numeric(unique_kos['Panjang Kamar'], errors='coerce')\n",
    "unique_kos['Lebar Kamar'] = pd.to_numeric(unique_kos['Lebar Kamar'], errors='coerce')\n",
    "# Argumen errors='coerce' akan mengubah nilai yang tidak dapat dikonversi menjadi NaN."
   ]
  },
  {
   "cell_type": "code",
   "execution_count": 30,
   "metadata": {},
   "outputs": [
    {
     "name": "stderr",
     "output_type": "stream",
     "text": [
      "<ipython-input-30-3b31debfd1bb>:1: SettingWithCopyWarning: \n",
      "A value is trying to be set on a copy of a slice from a DataFrame.\n",
      "Try using .loc[row_indexer,col_indexer] = value instead\n",
      "\n",
      "See the caveats in the documentation: https://pandas.pydata.org/pandas-docs/stable/user_guide/indexing.html#returning-a-view-versus-a-copy\n",
      "  unique_kos[\"Luas Kamar\"] = unique_kos[\"Panjang Kamar\"] * unique_kos[\"Lebar Kamar\"]\n"
     ]
    }
   ],
   "source": [
    "unique_kos[\"Luas Kamar\"] = unique_kos[\"Panjang Kamar\"] * unique_kos[\"Lebar Kamar\"]"
   ]
  },
  {
   "cell_type": "code",
   "execution_count": 31,
   "metadata": {},
   "outputs": [],
   "source": [
    "unique_kos = unique_kos.drop(columns=[\"Fasilitas\"])"
   ]
  },
  {
   "cell_type": "code",
   "execution_count": 33,
   "metadata": {},
   "outputs": [
    {
     "data": {
      "text/plain": [
       "(1030, 14)"
      ]
     },
     "execution_count": 33,
     "metadata": {},
     "output_type": "execute_result"
    }
   ],
   "source": [
    "unique_kos.shape"
   ]
  },
  {
   "cell_type": "markdown",
   "metadata": {},
   "source": [
    "SEJAUH INI KITA SUDAH MELAKUKAN:\n",
    "- Menyatukan lokasi yang serupa, misalnya untuk Rungkut dan Kecamatan Rungkut dijadikan satu menjadi Rungkut, dsb. &#x2705;\n",
    "- Menghilangkan tanda Rp. diawal pada data Harga, misal Rp880.000 menjadi 880.000 &#x2705;\n",
    "- Memecahkan fasilitas terkait ke dalam beberapa kolom --> Menjadi yes/no `HARD` &#x2705;\n",
    "- Pada kolom luas kamar, hilangkan kata \"meter\", pecah jadi 3 kolom (panjang x lebar) dan luas &#x2705;\n",
    "- Menyesuaikan tipe data"
   ]
  },
  {
   "cell_type": "markdown",
   "metadata": {},
   "source": [
    "`EXPORT TO CSV`"
   ]
  },
  {
   "cell_type": "code",
   "execution_count": 114,
   "metadata": {},
   "outputs": [],
   "source": [
    "# Simpan DataFrame ke file CSV\n",
    "unique_kos.to_csv(\"data-all-clean.csv\", index=False)"
   ]
  },
  {
   "cell_type": "code",
   "execution_count": null,
   "metadata": {},
   "outputs": [],
   "source": []
  },
  {
   "cell_type": "code",
   "execution_count": null,
   "metadata": {},
   "outputs": [],
   "source": []
  }
 ],
 "metadata": {
  "kernelspec": {
   "display_name": "Python 3",
   "language": "python",
   "name": "python3"
  },
  "language_info": {
   "codemirror_mode": {
    "name": "ipython",
    "version": 3
   },
   "file_extension": ".py",
   "mimetype": "text/x-python",
   "name": "python",
   "nbconvert_exporter": "python",
   "pygments_lexer": "ipython3",
   "version": "3.8.3"
  }
 },
 "nbformat": 4,
 "nbformat_minor": 4
}
