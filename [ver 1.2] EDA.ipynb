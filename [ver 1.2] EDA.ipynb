{
 "cells": [
  {
   "cell_type": "markdown",
   "metadata": {},
   "source": [
    "`Exploratory Data Analysis (EDA)`\n",
    "- Handling Outliers pada Data Variabel Numerik (Harga, Luas Kamar)\n",
    "- Distribusi harga kos (general)\n",
    "- Rata-rata harga sewa berdasarkan kampus terdekat\n",
    "- Pie Chart kos (%) berdasarkan kampus terdekat (UPN, UNAIR, ITS, UNESA)\n",
    "- Tabel ketersediaan fasilitas (K. Mandi Dalam, AC, WiFi, Kasur, Akses 24 Jam, Informasi Termasuk Listrik) dalam % \n"
   ]
  },
  {
   "cell_type": "code",
   "execution_count": 3,
   "metadata": {},
   "outputs": [],
   "source": [
    "import pandas as pd"
   ]
  },
  {
   "cell_type": "code",
   "execution_count": 4,
   "metadata": {
    "scrolled": true
   },
   "outputs": [
    {
     "data": {
      "text/html": [
       "<div>\n",
       "<style scoped>\n",
       "    .dataframe tbody tr th:only-of-type {\n",
       "        vertical-align: middle;\n",
       "    }\n",
       "\n",
       "    .dataframe tbody tr th {\n",
       "        vertical-align: top;\n",
       "    }\n",
       "\n",
       "    .dataframe thead th {\n",
       "        text-align: right;\n",
       "    }\n",
       "</style>\n",
       "<table border=\"1\" class=\"dataframe\">\n",
       "  <thead>\n",
       "    <tr style=\"text-align: right;\">\n",
       "      <th></th>\n",
       "      <th>Link</th>\n",
       "      <th>Nama</th>\n",
       "      <th>Lokasi</th>\n",
       "      <th>Harga</th>\n",
       "      <th>Jenis</th>\n",
       "      <th>Listrik</th>\n",
       "      <th>Luas Kamar</th>\n",
       "      <th>K Mandi Dalam</th>\n",
       "      <th>AC</th>\n",
       "      <th>WiFi</th>\n",
       "      <th>...</th>\n",
       "      <th>UNAIR Kampus Dharmahusada A</th>\n",
       "      <th>UNAIR Kampus Dharmawangsa B</th>\n",
       "      <th>UNAIR Kampus Merr C</th>\n",
       "      <th>ITS Kampus Sukolilo</th>\n",
       "      <th>ITS Kampus Manyar</th>\n",
       "      <th>ITS Kampus Cokroaminoto</th>\n",
       "      <th>UNESA Kampus Ketintang (Gayungan)</th>\n",
       "      <th>UNESA Kampus Lidah Wetan (Lakarsantri)</th>\n",
       "      <th>Kampus Terdekat</th>\n",
       "      <th>Jarak ke Kampus Terdekat</th>\n",
       "    </tr>\n",
       "  </thead>\n",
       "  <tbody>\n",
       "    <tr>\n",
       "      <th>0</th>\n",
       "      <td>https://mamikos.com/room/kost-kota-surabaya-ko...</td>\n",
       "      <td>Kost Singgahsini Rungkut Asri Utara XI Tipe C ...</td>\n",
       "      <td>Rungkut</td>\n",
       "      <td>880000</td>\n",
       "      <td>Putri</td>\n",
       "      <td>Tidak termasuk listrik</td>\n",
       "      <td>5.0</td>\n",
       "      <td>No</td>\n",
       "      <td>No</td>\n",
       "      <td>Yes</td>\n",
       "      <td>...</td>\n",
       "      <td>6.751502</td>\n",
       "      <td>5.961819</td>\n",
       "      <td>6.192288</td>\n",
       "      <td>5.103929</td>\n",
       "      <td>4.250717</td>\n",
       "      <td>6.366513</td>\n",
       "      <td>5.253936</td>\n",
       "      <td>11.457135</td>\n",
       "      <td>UPN</td>\n",
       "      <td>1.922106</td>\n",
       "    </tr>\n",
       "    <tr>\n",
       "      <th>1</th>\n",
       "      <td>https://mamikos.com/room/kost-kota-surabaya-ko...</td>\n",
       "      <td>Kost Singgahsini Rungkut Asri Utara XI Tipe A ...</td>\n",
       "      <td>Rungkut</td>\n",
       "      <td>1275000</td>\n",
       "      <td>Putri</td>\n",
       "      <td>Tidak termasuk listrik</td>\n",
       "      <td>5.0</td>\n",
       "      <td>No</td>\n",
       "      <td>Yes</td>\n",
       "      <td>Yes</td>\n",
       "      <td>...</td>\n",
       "      <td>6.751502</td>\n",
       "      <td>5.961819</td>\n",
       "      <td>6.192288</td>\n",
       "      <td>5.103929</td>\n",
       "      <td>4.250717</td>\n",
       "      <td>6.366513</td>\n",
       "      <td>5.253936</td>\n",
       "      <td>11.457135</td>\n",
       "      <td>UPN</td>\n",
       "      <td>1.922106</td>\n",
       "    </tr>\n",
       "    <tr>\n",
       "      <th>2</th>\n",
       "      <td>https://mamikos.com/room/kost-kota-surabaya-ko...</td>\n",
       "      <td>Kost Singgahsini Rungkut Asri Utara XI Tipe B ...</td>\n",
       "      <td>Rungkut</td>\n",
       "      <td>925000</td>\n",
       "      <td>Putri</td>\n",
       "      <td>Tidak termasuk listrik</td>\n",
       "      <td>6.0</td>\n",
       "      <td>No</td>\n",
       "      <td>No</td>\n",
       "      <td>Yes</td>\n",
       "      <td>...</td>\n",
       "      <td>6.751502</td>\n",
       "      <td>5.961819</td>\n",
       "      <td>6.192288</td>\n",
       "      <td>5.103929</td>\n",
       "      <td>4.250717</td>\n",
       "      <td>6.366513</td>\n",
       "      <td>5.253936</td>\n",
       "      <td>11.457135</td>\n",
       "      <td>UPN</td>\n",
       "      <td>1.922106</td>\n",
       "    </tr>\n",
       "    <tr>\n",
       "      <th>3</th>\n",
       "      <td>https://mamikos.com/room/kost-kota-surabaya-ko...</td>\n",
       "      <td>Kost Singgahsini Rabbani Syariah Tipe A Rungku...</td>\n",
       "      <td>Rungkut</td>\n",
       "      <td>2525000</td>\n",
       "      <td>Putri</td>\n",
       "      <td>Tidak termasuk listrik</td>\n",
       "      <td>20.0</td>\n",
       "      <td>Yes</td>\n",
       "      <td>Yes</td>\n",
       "      <td>Yes</td>\n",
       "      <td>...</td>\n",
       "      <td>7.520482</td>\n",
       "      <td>6.860508</td>\n",
       "      <td>5.906376</td>\n",
       "      <td>4.194379</td>\n",
       "      <td>5.280218</td>\n",
       "      <td>7.991697</td>\n",
       "      <td>7.795978</td>\n",
       "      <td>13.948275</td>\n",
       "      <td>UPN</td>\n",
       "      <td>1.747229</td>\n",
       "    </tr>\n",
       "    <tr>\n",
       "      <th>4</th>\n",
       "      <td>https://mamikos.com/room/kost-kota-surabaya-ko...</td>\n",
       "      <td>Kost Singgahsini Rabbani Syariah Tipe C Rungku...</td>\n",
       "      <td>Rungkut</td>\n",
       "      <td>2025000</td>\n",
       "      <td>Putri</td>\n",
       "      <td>Tidak termasuk listrik</td>\n",
       "      <td>16.0</td>\n",
       "      <td>Yes</td>\n",
       "      <td>Yes</td>\n",
       "      <td>Yes</td>\n",
       "      <td>...</td>\n",
       "      <td>7.520482</td>\n",
       "      <td>6.860508</td>\n",
       "      <td>5.906376</td>\n",
       "      <td>4.194379</td>\n",
       "      <td>5.280218</td>\n",
       "      <td>7.991697</td>\n",
       "      <td>7.795978</td>\n",
       "      <td>13.948275</td>\n",
       "      <td>UPN</td>\n",
       "      <td>1.747229</td>\n",
       "    </tr>\n",
       "  </tbody>\n",
       "</table>\n",
       "<p>5 rows × 28 columns</p>\n",
       "</div>"
      ],
      "text/plain": [
       "                                                Link  \\\n",
       "0  https://mamikos.com/room/kost-kota-surabaya-ko...   \n",
       "1  https://mamikos.com/room/kost-kota-surabaya-ko...   \n",
       "2  https://mamikos.com/room/kost-kota-surabaya-ko...   \n",
       "3  https://mamikos.com/room/kost-kota-surabaya-ko...   \n",
       "4  https://mamikos.com/room/kost-kota-surabaya-ko...   \n",
       "\n",
       "                                                Nama   Lokasi    Harga  Jenis  \\\n",
       "0  Kost Singgahsini Rungkut Asri Utara XI Tipe C ...  Rungkut   880000  Putri   \n",
       "1  Kost Singgahsini Rungkut Asri Utara XI Tipe A ...  Rungkut  1275000  Putri   \n",
       "2  Kost Singgahsini Rungkut Asri Utara XI Tipe B ...  Rungkut   925000  Putri   \n",
       "3  Kost Singgahsini Rabbani Syariah Tipe A Rungku...  Rungkut  2525000  Putri   \n",
       "4  Kost Singgahsini Rabbani Syariah Tipe C Rungku...  Rungkut  2025000  Putri   \n",
       "\n",
       "                  Listrik  Luas Kamar K Mandi Dalam   AC WiFi  ...  \\\n",
       "0  Tidak termasuk listrik         5.0            No   No  Yes  ...   \n",
       "1  Tidak termasuk listrik         5.0            No  Yes  Yes  ...   \n",
       "2  Tidak termasuk listrik         6.0            No   No  Yes  ...   \n",
       "3  Tidak termasuk listrik        20.0           Yes  Yes  Yes  ...   \n",
       "4  Tidak termasuk listrik        16.0           Yes  Yes  Yes  ...   \n",
       "\n",
       "  UNAIR Kampus Dharmahusada A UNAIR Kampus Dharmawangsa B  \\\n",
       "0                    6.751502                    5.961819   \n",
       "1                    6.751502                    5.961819   \n",
       "2                    6.751502                    5.961819   \n",
       "3                    7.520482                    6.860508   \n",
       "4                    7.520482                    6.860508   \n",
       "\n",
       "   UNAIR Kampus Merr C  ITS Kampus Sukolilo ITS Kampus Manyar  \\\n",
       "0             6.192288             5.103929          4.250717   \n",
       "1             6.192288             5.103929          4.250717   \n",
       "2             6.192288             5.103929          4.250717   \n",
       "3             5.906376             4.194379          5.280218   \n",
       "4             5.906376             4.194379          5.280218   \n",
       "\n",
       "   ITS Kampus Cokroaminoto  UNESA Kampus Ketintang (Gayungan)  \\\n",
       "0                 6.366513                           5.253936   \n",
       "1                 6.366513                           5.253936   \n",
       "2                 6.366513                           5.253936   \n",
       "3                 7.991697                           7.795978   \n",
       "4                 7.991697                           7.795978   \n",
       "\n",
       "   UNESA Kampus Lidah Wetan (Lakarsantri)  Kampus Terdekat  \\\n",
       "0                               11.457135              UPN   \n",
       "1                               11.457135              UPN   \n",
       "2                               11.457135              UPN   \n",
       "3                               13.948275              UPN   \n",
       "4                               13.948275              UPN   \n",
       "\n",
       "   Jarak ke Kampus Terdekat  \n",
       "0                  1.922106  \n",
       "1                  1.922106  \n",
       "2                  1.922106  \n",
       "3                  1.747229  \n",
       "4                  1.747229  \n",
       "\n",
       "[5 rows x 28 columns]"
      ]
     },
     "execution_count": 4,
     "metadata": {},
     "output_type": "execute_result"
    }
   ],
   "source": [
    "df = pd.read_csv(\"data_hasil_ekstrak_maps.csv\", index_col=0)\n",
    "df.head()"
   ]
  },
  {
   "cell_type": "code",
   "execution_count": 26,
   "metadata": {},
   "outputs": [
    {
     "data": {
      "text/plain": [
       "Index(['Link', 'Nama', 'Lokasi', 'Harga', 'Jenis', 'Listrik', 'Luas Kamar',\n",
       "       'K Mandi Dalam', 'AC', 'WiFi', 'Kasur', 'Akses 24 Jam', 'Panjang Kamar',\n",
       "       'Lebar Kamar', 'Maps', 'Latitude', 'Longitude', 'UPN',\n",
       "       'UNAIR Kampus Dharmahusada A', 'UNAIR Kampus Dharmawangsa B',\n",
       "       'UNAIR Kampus Merr C', 'ITS Kampus Sukolilo', 'ITS Kampus Manyar',\n",
       "       'ITS Kampus Cokroaminoto', 'UNESA Kampus Ketintang (Gayungan)',\n",
       "       'UNESA Kampus Lidah Wetan (Lakarsantri)', 'Kampus Terdekat',\n",
       "       'Jarak ke Kampus Terdekat'],\n",
       "      dtype='object')"
      ]
     },
     "execution_count": 26,
     "metadata": {},
     "output_type": "execute_result"
    }
   ],
   "source": [
    "df.columns"
   ]
  },
  {
   "cell_type": "code",
   "execution_count": 27,
   "metadata": {},
   "outputs": [
    {
     "data": {
      "text/plain": [
       "Index(['Link', 'Nama', 'Lokasi', 'Harga', 'Jenis', 'Listrik', 'Luas Kamar',\n",
       "       'K Mandi Dalam', 'AC', 'WiFi', 'Kasur', 'Akses 24 Jam', 'Panjang Kamar',\n",
       "       'Lebar Kamar', 'Latitude', 'Longitude', 'Kampus Terdekat',\n",
       "       'Jarak ke Kampus Terdekat'],\n",
       "      dtype='object')"
      ]
     },
     "execution_count": 27,
     "metadata": {},
     "output_type": "execute_result"
    }
   ],
   "source": [
    "df_filter = df[['Link', 'Nama', 'Lokasi', 'Harga', 'Jenis', 'Listrik', 'Luas Kamar',\n",
    "       'K Mandi Dalam', 'AC', 'WiFi', 'Kasur', 'Akses 24 Jam', 'Panjang Kamar',\n",
    "       'Lebar Kamar', 'Latitude', 'Longitude', 'Kampus Terdekat',\n",
    "       'Jarak ke Kampus Terdekat']]\n",
    "df_filter.columns"
   ]
  },
  {
   "cell_type": "code",
   "execution_count": 28,
   "metadata": {},
   "outputs": [
    {
     "name": "stdout",
     "output_type": "stream",
     "text": [
      "<class 'pandas.core.frame.DataFrame'>\n",
      "Int64Index: 677 entries, 0 to 676\n",
      "Data columns (total 18 columns):\n",
      " #   Column                    Non-Null Count  Dtype  \n",
      "---  ------                    --------------  -----  \n",
      " 0   Link                      677 non-null    object \n",
      " 1   Nama                      677 non-null    object \n",
      " 2   Lokasi                    677 non-null    object \n",
      " 3   Harga                     677 non-null    int64  \n",
      " 4   Jenis                     677 non-null    object \n",
      " 5   Listrik                   677 non-null    object \n",
      " 6   Luas Kamar                677 non-null    float64\n",
      " 7   K Mandi Dalam             677 non-null    object \n",
      " 8   AC                        677 non-null    object \n",
      " 9   WiFi                      677 non-null    object \n",
      " 10  Kasur                     677 non-null    object \n",
      " 11  Akses 24 Jam              677 non-null    object \n",
      " 12  Panjang Kamar             677 non-null    float64\n",
      " 13  Lebar Kamar               677 non-null    float64\n",
      " 14  Latitude                  677 non-null    float64\n",
      " 15  Longitude                 677 non-null    float64\n",
      " 16  Kampus Terdekat           677 non-null    object \n",
      " 17  Jarak ke Kampus Terdekat  677 non-null    float64\n",
      "dtypes: float64(6), int64(1), object(11)\n",
      "memory usage: 100.5+ KB\n"
     ]
    }
   ],
   "source": [
    "df_filter.info()"
   ]
  },
  {
   "cell_type": "markdown",
   "metadata": {},
   "source": [
    "### Handling Outliers "
   ]
  },
  {
   "cell_type": "markdown",
   "metadata": {},
   "source": [
    "**Harga Sewa**"
   ]
  },
  {
   "cell_type": "code",
   "execution_count": 29,
   "metadata": {},
   "outputs": [],
   "source": [
    "import matplotlib.pyplot as plt\n",
    "import seaborn as sns"
   ]
  },
  {
   "cell_type": "code",
   "execution_count": 30,
   "metadata": {},
   "outputs": [
    {
     "data": {
      "image/png": "[encoded data removed]",
      "text/plain": [
       "<Figure size 720x432 with 1 Axes>"
      ]
     },
     "metadata": {
      "needs_background": "light"
     },
     "output_type": "display_data"
    }
   ],
   "source": [
    "# Plot box plot untuk melihat ringkasan statistik harga\n",
    "plt.figure(figsize=(10, 6))\n",
    "sns.boxplot(x=df_filter['Harga'])\n",
    "plt.title('Box Plot Harga Kos')\n",
    "plt.xlabel('Harga')\n",
    "plt.show()"
   ]
  },
  {
   "cell_type": "code",
   "execution_count": 31,
   "metadata": {},
   "outputs": [
    {
     "data": {
      "text/plain": [
       "148    3359500\n",
       "160    3250000\n",
       "196    8250000\n",
       "204    7250000\n",
       "218    3000000\n",
       "219    3000000\n",
       "467    3000000\n",
       "473    4000000\n",
       "494    2850000\n",
       "568    3010000\n",
       "Name: Harga, dtype: int64"
      ]
     },
     "execution_count": 31,
     "metadata": {},
     "output_type": "execute_result"
    }
   ],
   "source": [
    "# Melihat Outlier\n",
    "# Hitung Quartile Pertama (Q1) dan Quartile Ketiga (Q3)\n",
    "Q1 = df_filter['Harga'].quantile(0.25)\n",
    "Q3 = df_filter['Harga'].quantile(0.75)\n",
    "\n",
    "# Hitung Interquartile Range (IQR)\n",
    "IQR = Q3 - Q1\n",
    "\n",
    "# Hitung Batas Bawah dan Atas untuk Outlier\n",
    "lower_bound = Q1 - 1.5 * IQR\n",
    "upper_bound = Q3 + 1.5 * IQR\n",
    "\n",
    "# Identifikasi Outlier\n",
    "outliers = df_filter[(df_filter['Harga'] < lower_bound) | (df_filter['Harga'] > upper_bound)]\n",
    "\n",
    "# Tampilkan hasil\n",
    "outliers[\"Harga\"]"
   ]
  },
  {
   "cell_type": "code",
   "execution_count": 32,
   "metadata": {},
   "outputs": [],
   "source": [
    "# Filter dataframe untuk menghapus outlier pada Harga\n",
    "df_filter = df_filter[(df_filter['Harga'] >= lower_bound) & (df_filter['Harga'] <= upper_bound)]"
   ]
  },
  {
   "cell_type": "code",
   "execution_count": 33,
   "metadata": {},
   "outputs": [
    {
     "data": {
      "text/plain": [
       "(667, 18)"
      ]
     },
     "execution_count": 33,
     "metadata": {},
     "output_type": "execute_result"
    }
   ],
   "source": [
    "df_filter.shape"
   ]
  },
  {
   "cell_type": "markdown",
   "metadata": {},
   "source": [
    "**Luas Kamar**"
   ]
  },
  {
   "cell_type": "code",
   "execution_count": 34,
   "metadata": {},
   "outputs": [
    {
     "data": {
      "image/png": "[encoded data removed]",
      "text/plain": [
       "<Figure size 720x432 with 1 Axes>"
      ]
     },
     "metadata": {
      "needs_background": "light"
     },
     "output_type": "display_data"
    }
   ],
   "source": [
    "# Plot box plot untuk melihat ringkasan statistik luas kamar\n",
    "plt.figure(figsize=(10, 6))\n",
    "sns.boxplot(x=df_filter['Luas Kamar'])\n",
    "plt.title('Box Plot Luas Kamar')\n",
    "plt.xlabel('Luas Kamar')\n",
    "plt.show()"
   ]
  },
  {
   "cell_type": "code",
   "execution_count": 35,
   "metadata": {},
   "outputs": [
    {
     "data": {
      "text/html": [
       "<div>\n",
       "<style scoped>\n",
       "    .dataframe tbody tr th:only-of-type {\n",
       "        vertical-align: middle;\n",
       "    }\n",
       "\n",
       "    .dataframe tbody tr th {\n",
       "        vertical-align: top;\n",
       "    }\n",
       "\n",
       "    .dataframe thead th {\n",
       "        text-align: right;\n",
       "    }\n",
       "</style>\n",
       "<table border=\"1\" class=\"dataframe\">\n",
       "  <thead>\n",
       "    <tr style=\"text-align: right;\">\n",
       "      <th></th>\n",
       "      <th>Link</th>\n",
       "      <th>Nama</th>\n",
       "      <th>Lokasi</th>\n",
       "      <th>Harga</th>\n",
       "      <th>Jenis</th>\n",
       "      <th>Listrik</th>\n",
       "      <th>Luas Kamar</th>\n",
       "      <th>K Mandi Dalam</th>\n",
       "      <th>AC</th>\n",
       "      <th>WiFi</th>\n",
       "      <th>Kasur</th>\n",
       "      <th>Akses 24 Jam</th>\n",
       "      <th>Panjang Kamar</th>\n",
       "      <th>Lebar Kamar</th>\n",
       "      <th>Latitude</th>\n",
       "      <th>Longitude</th>\n",
       "      <th>Kampus Terdekat</th>\n",
       "      <th>Jarak ke Kampus Terdekat</th>\n",
       "    </tr>\n",
       "  </thead>\n",
       "  <tbody>\n",
       "    <tr>\n",
       "      <th>500</th>\n",
       "      <td>https://mamikos.com/room/kost-kota-surabaya-ko...</td>\n",
       "      <td>Kost Ibu MJ Dukuhpakis Surabaya</td>\n",
       "      <td>Dukuh Pakis</td>\n",
       "      <td>820000</td>\n",
       "      <td>Campur</td>\n",
       "      <td>Tidak termasuk listrik</td>\n",
       "      <td>81.0</td>\n",
       "      <td>Yes</td>\n",
       "      <td>No</td>\n",
       "      <td>No</td>\n",
       "      <td>Yes</td>\n",
       "      <td>Yes</td>\n",
       "      <td>9.0</td>\n",
       "      <td>9.0</td>\n",
       "      <td>-7.283458</td>\n",
       "      <td>112.678724</td>\n",
       "      <td>UNESA Kampus Lidah Wetan (Lakarsantri)</td>\n",
       "      <td>2.033097</td>\n",
       "    </tr>\n",
       "  </tbody>\n",
       "</table>\n",
       "</div>"
      ],
      "text/plain": [
       "                                                  Link  \\\n",
       "500  https://mamikos.com/room/kost-kota-surabaya-ko...   \n",
       "\n",
       "                                Nama       Lokasi   Harga   Jenis  \\\n",
       "500  Kost Ibu MJ Dukuhpakis Surabaya  Dukuh Pakis  820000  Campur   \n",
       "\n",
       "                    Listrik  Luas Kamar K Mandi Dalam  AC WiFi Kasur  \\\n",
       "500  Tidak termasuk listrik        81.0           Yes  No   No   Yes   \n",
       "\n",
       "    Akses 24 Jam  Panjang Kamar  Lebar Kamar  Latitude   Longitude  \\\n",
       "500          Yes            9.0          9.0 -7.283458  112.678724   \n",
       "\n",
       "                            Kampus Terdekat  Jarak ke Kampus Terdekat  \n",
       "500  UNESA Kampus Lidah Wetan (Lakarsantri)                  2.033097  "
      ]
     },
     "execution_count": 35,
     "metadata": {},
     "output_type": "execute_result"
    }
   ],
   "source": [
    "df_filter[df_filter[\"Luas Kamar\"]>50]"
   ]
  },
  {
   "cell_type": "markdown",
   "metadata": {},
   "source": [
    "Dalam proses ini hanya akan dihapus data indekos dengan luas kamar 81 (karena setelah dilakukan pengecekan ini adalah anomali). Bisa di cek di https://mamikos.com/room/kost-kota-surabaya-kost-campur-murah-kost-ibu-mj-dukuhpakis-surabaya?redirection_source=list%20kos%20result"
   ]
  },
  {
   "cell_type": "code",
   "execution_count": 36,
   "metadata": {},
   "outputs": [],
   "source": [
    "# Filter dataframe untuk menghapus data luas kamar > 80\n",
    "df_filter = df_filter[(df_filter['Luas Kamar'] < 80)]"
   ]
  },
  {
   "cell_type": "code",
   "execution_count": 38,
   "metadata": {},
   "outputs": [
    {
     "data": {
      "text/plain": [
       "(666, 18)"
      ]
     },
     "execution_count": 38,
     "metadata": {},
     "output_type": "execute_result"
    }
   ],
   "source": [
    "df_filter.shape"
   ]
  },
  {
   "cell_type": "markdown",
   "metadata": {},
   "source": [
    "### Distribusi harga kos (general)"
   ]
  },
  {
   "cell_type": "code",
   "execution_count": 44,
   "metadata": {},
   "outputs": [
    {
     "data": {
      "image/png": "[encoded data removed]",
      "text/plain": [
       "<Figure size 720x432 with 1 Axes>"
      ]
     },
     "metadata": {
      "needs_background": "light"
     },
     "output_type": "display_data"
    }
   ],
   "source": [
    "# Plot histogram untuk distribusi harga\n",
    "plt.figure(figsize=(10, 6))\n",
    "sns.histplot(df_filter['Harga'], kde=True, bins=10)\n",
    "plt.title('Distribusi Harga Kos')\n",
    "plt.xlabel('Harga')\n",
    "plt.ylabel('Frekuensi')\n",
    "plt.show()"
   ]
  },
  {
   "cell_type": "markdown",
   "metadata": {},
   "source": [
    "Fungsi `kde=True` dalam `sns.histplot` digunakan untuk menambahkan **Kernel Density Estimate (KDE)** ke histogram. KDE adalah metode non-parametrik untuk memperkirakan fungsi distribusi probabilitas dari variabel acak. Jika histogram menunjukkan jumlah atau frekuensi pengamatan dalam setiap bin, KDE memberikan kurva yang memperkirakan distribusi data dengan lebih halus, digunakan untuk mengidentifikasi distribusi data yang lebih umum."
   ]
  },
  {
   "cell_type": "markdown",
   "metadata": {},
   "source": [
    "Distribusi harga sewa indekos di Surabaya menunjukkan mayoritas berkisar antara Rp600.000 hingga Rp1.600.000 per bulan. Ekor distribusi yang panjang ke kanan mengindikasikan adanya sejumlah kecil indekos dengan harga yang lebih tinggi dari kos-kosan pada umumnya..\n"
   ]
  },
  {
   "cell_type": "markdown",
   "metadata": {},
   "source": [
    "### Statistik deskriptif harga sewa berdasarkan kampus terdekat"
   ]
  },
  {
   "cell_type": "code",
   "execution_count": 58,
   "metadata": {},
   "outputs": [],
   "source": [
    "price_stats = df_filter.groupby(['Kampus Terdekat'])['Harga'].agg(\n",
    "    jumlah_kos='size',\n",
    "    harga_terendah='min',\n",
    "    harga_tertinggi='max',\n",
    "    median='median', \n",
    "    rata_rata='mean',\n",
    "    q1=lambda x: x.quantile(0.25),  # Q1 (Quartile 1)\n",
    "    q3=lambda x: x.quantile(0.75)   # Q3 (Quartile 3)\n",
    ").reset_index()\n",
    "\n",
    "# Membulatkan kolom rata-rata, Q1, dan Q3 hingga dua angka di belakang koma\n",
    "price_stats['rata_rata'] = price_stats['rata_rata'].round(1)\n",
    "price_stats['q1'] = price_stats['q1'].round(1)\n",
    "price_stats['q3'] = price_stats['q3'].round(1)\n",
    "\n",
    "# Mengurutkan berdasarkan jumlah_kos\n",
    "price_stats = price_stats.sort_values(by='jumlah_kos', ascending=False)"
   ]
  },
  {
   "cell_type": "code",
   "execution_count": 59,
   "metadata": {},
   "outputs": [
    {
     "data": {
      "text/html": [
       "<div>\n",
       "<style scoped>\n",
       "    .dataframe tbody tr th:only-of-type {\n",
       "        vertical-align: middle;\n",
       "    }\n",
       "\n",
       "    .dataframe tbody tr th {\n",
       "        vertical-align: top;\n",
       "    }\n",
       "\n",
       "    .dataframe thead th {\n",
       "        text-align: right;\n",
       "    }\n",
       "</style>\n",
       "<table border=\"1\" class=\"dataframe\">\n",
       "  <thead>\n",
       "    <tr style=\"text-align: right;\">\n",
       "      <th></th>\n",
       "      <th>Kampus Terdekat</th>\n",
       "      <th>jumlah_kos</th>\n",
       "      <th>harga_terendah</th>\n",
       "      <th>harga_tertinggi</th>\n",
       "      <th>median</th>\n",
       "      <th>rata_rata</th>\n",
       "      <th>q1</th>\n",
       "      <th>q3</th>\n",
       "    </tr>\n",
       "  </thead>\n",
       "  <tbody>\n",
       "    <tr>\n",
       "      <th>8</th>\n",
       "      <td>UPN</td>\n",
       "      <td>142</td>\n",
       "      <td>350000</td>\n",
       "      <td>2800000</td>\n",
       "      <td>1100000</td>\n",
       "      <td>1207017.6</td>\n",
       "      <td>800000</td>\n",
       "      <td>1500000</td>\n",
       "    </tr>\n",
       "    <tr>\n",
       "      <th>6</th>\n",
       "      <td>UNESA Kampus Ketintang (Gayungan)</td>\n",
       "      <td>113</td>\n",
       "      <td>405000</td>\n",
       "      <td>2700000</td>\n",
       "      <td>1300000</td>\n",
       "      <td>1310234.5</td>\n",
       "      <td>800000</td>\n",
       "      <td>1750000</td>\n",
       "    </tr>\n",
       "    <tr>\n",
       "      <th>1</th>\n",
       "      <td>ITS Kampus Manyar</td>\n",
       "      <td>99</td>\n",
       "      <td>500000</td>\n",
       "      <td>2660000</td>\n",
       "      <td>1300000</td>\n",
       "      <td>1241710.1</td>\n",
       "      <td>727500</td>\n",
       "      <td>1600000</td>\n",
       "    </tr>\n",
       "    <tr>\n",
       "      <th>4</th>\n",
       "      <td>UNAIR Kampus Dharmawangsa B</td>\n",
       "      <td>87</td>\n",
       "      <td>500000</td>\n",
       "      <td>2500000</td>\n",
       "      <td>1100000</td>\n",
       "      <td>1202290.8</td>\n",
       "      <td>800000</td>\n",
       "      <td>1600000</td>\n",
       "    </tr>\n",
       "    <tr>\n",
       "      <th>2</th>\n",
       "      <td>ITS Kampus Sukolilo</td>\n",
       "      <td>86</td>\n",
       "      <td>450000</td>\n",
       "      <td>2600000</td>\n",
       "      <td>1000000</td>\n",
       "      <td>1131569.8</td>\n",
       "      <td>700000</td>\n",
       "      <td>1500000</td>\n",
       "    </tr>\n",
       "    <tr>\n",
       "      <th>5</th>\n",
       "      <td>UNAIR Kampus Merr C</td>\n",
       "      <td>42</td>\n",
       "      <td>500000</td>\n",
       "      <td>2500000</td>\n",
       "      <td>1500000</td>\n",
       "      <td>1513928.3</td>\n",
       "      <td>1025000</td>\n",
       "      <td>2000000</td>\n",
       "    </tr>\n",
       "    <tr>\n",
       "      <th>3</th>\n",
       "      <td>UNAIR Kampus Dharmahusada A</td>\n",
       "      <td>41</td>\n",
       "      <td>400000</td>\n",
       "      <td>2708750</td>\n",
       "      <td>1100000</td>\n",
       "      <td>1187164.6</td>\n",
       "      <td>800000</td>\n",
       "      <td>1350000</td>\n",
       "    </tr>\n",
       "    <tr>\n",
       "      <th>7</th>\n",
       "      <td>UNESA Kampus Lidah Wetan (Lakarsantri)</td>\n",
       "      <td>31</td>\n",
       "      <td>500000</td>\n",
       "      <td>2750000</td>\n",
       "      <td>950000</td>\n",
       "      <td>1238129.0</td>\n",
       "      <td>727500</td>\n",
       "      <td>1675000</td>\n",
       "    </tr>\n",
       "    <tr>\n",
       "      <th>0</th>\n",
       "      <td>ITS Kampus Cokroaminoto</td>\n",
       "      <td>25</td>\n",
       "      <td>450000</td>\n",
       "      <td>2500000</td>\n",
       "      <td>1300000</td>\n",
       "      <td>1281000.0</td>\n",
       "      <td>750000</td>\n",
       "      <td>1600000</td>\n",
       "    </tr>\n",
       "  </tbody>\n",
       "</table>\n",
       "</div>"
      ],
      "text/plain": [
       "                          Kampus Terdekat  jumlah_kos  harga_terendah  \\\n",
       "8                                     UPN         142          350000   \n",
       "6       UNESA Kampus Ketintang (Gayungan)         113          405000   \n",
       "1                       ITS Kampus Manyar          99          500000   \n",
       "4             UNAIR Kampus Dharmawangsa B          87          500000   \n",
       "2                     ITS Kampus Sukolilo          86          450000   \n",
       "5                     UNAIR Kampus Merr C          42          500000   \n",
       "3             UNAIR Kampus Dharmahusada A          41          400000   \n",
       "7  UNESA Kampus Lidah Wetan (Lakarsantri)          31          500000   \n",
       "0                 ITS Kampus Cokroaminoto          25          450000   \n",
       "\n",
       "   harga_tertinggi   median  rata_rata       q1       q3  \n",
       "8          2800000  1100000  1207017.6   800000  1500000  \n",
       "6          2700000  1300000  1310234.5   800000  1750000  \n",
       "1          2660000  1300000  1241710.1   727500  1600000  \n",
       "4          2500000  1100000  1202290.8   800000  1600000  \n",
       "2          2600000  1000000  1131569.8   700000  1500000  \n",
       "5          2500000  1500000  1513928.3  1025000  2000000  \n",
       "3          2708750  1100000  1187164.6   800000  1350000  \n",
       "7          2750000   950000  1238129.0   727500  1675000  \n",
       "0          2500000  1300000  1281000.0   750000  1600000  "
      ]
     },
     "execution_count": 59,
     "metadata": {},
     "output_type": "execute_result"
    }
   ],
   "source": [
    "price_stats"
   ]
  },
  {
   "cell_type": "markdown",
   "metadata": {},
   "source": [
    "### Pie Chart kos (%) berdasarkan kampus terdekat (UPN, UNAIR, ITS, UNESA)"
   ]
  },
  {
   "cell_type": "code",
   "execution_count": 60,
   "metadata": {},
   "outputs": [
    {
     "data": {
      "text/plain": [
       "array(['UPN', 'UNAIR Kampus Dharmawangsa B', 'ITS Kampus Manyar',\n",
       "       'UNAIR Kampus Dharmahusada A', 'UNAIR Kampus Merr C',\n",
       "       'ITS Kampus Cokroaminoto', 'ITS Kampus Sukolilo',\n",
       "       'UNESA Kampus Ketintang (Gayungan)',\n",
       "       'UNESA Kampus Lidah Wetan (Lakarsantri)'], dtype=object)"
      ]
     },
     "execution_count": 60,
     "metadata": {},
     "output_type": "execute_result"
    }
   ],
   "source": [
    "df_filter[\"Kampus Terdekat\"].unique()"
   ]
  },
  {
   "cell_type": "code",
   "execution_count": 61,
   "metadata": {},
   "outputs": [],
   "source": [
    "# Definisikan fungsi untuk mengelompokkan kampus\n",
    "def categorize_campus(kampus):\n",
    "    if 'UPN' in kampus:\n",
    "        return 'UPN'\n",
    "    elif 'UNAIR Kampus Dharmawangsa B' in kampus or 'UNAIR Kampus Dharmahusada A' in kampus or 'UNAIR Kampus Merr C' in kampus:\n",
    "        return 'UNAIR'\n",
    "    elif 'ITS Kampus Manyar' in kampus or 'ITS Kampus Sukolilo' in kampus or 'ITS Kampus Cokroaminoto' in kampus:\n",
    "        return 'ITS'\n",
    "    elif 'UNESA Kampus Ketintang (Gayungan)' in kampus or 'UNESA Kampus Lidah Wetan (Lakarsantri)' in kampus:\n",
    "        return 'UNESA'\n",
    "    else:\n",
    "        return 'Lainnya'"
   ]
  },
  {
   "cell_type": "code",
   "execution_count": 62,
   "metadata": {},
   "outputs": [],
   "source": [
    "# Terapkan fungsi untuk mengelompokkan kampus\n",
    "df_filter['Kelompok Kampus'] = df_filter['Kampus Terdekat'].apply(categorize_campus)\n",
    "\n",
    "# Hitung jumlah kos untuk setiap kelompok kampus\n",
    "campus_counts = df_filter['Kelompok Kampus'].value_counts()"
   ]
  },
  {
   "cell_type": "code",
   "execution_count": 63,
   "metadata": {},
   "outputs": [
    {
     "data": {
      "text/plain": [
       "ITS      210\n",
       "UNAIR    170\n",
       "UNESA    144\n",
       "UPN      142\n",
       "Name: Kelompok Kampus, dtype: int64"
      ]
     },
     "execution_count": 63,
     "metadata": {},
     "output_type": "execute_result"
    }
   ],
   "source": [
    "campus_counts"
   ]
  },
  {
   "cell_type": "code",
   "execution_count": 64,
   "metadata": {},
   "outputs": [
    {
     "data": {
      "image/png": "[encoded data removed]",
      "text/plain": [
       "<Figure size 576x576 with 1 Axes>"
      ]
     },
     "metadata": {},
     "output_type": "display_data"
    }
   ],
   "source": [
    "# Buat pie chart dengan sektor terbesar di sebelah kanan\n",
    "plt.figure(figsize=(8, 8))\n",
    "campus_counts.plot.pie(autopct='%2.1f%%', startangle=90, colors=['#3498DB','#85C1E9', '#D7DBDD', '#F98E05'], pctdistance=0.85, counterclock=False)\n",
    "plt.title('Distribusi Kos Berdasarkan Kampus Terdekat')\n",
    "plt.ylabel('')  # Menghilangkan label sumbu y\n",
    "plt.show()"
   ]
  },
  {
   "cell_type": "markdown",
   "metadata": {},
   "source": [
    "### Tabel ketersediaan fasilitas (K. Mandi Dalam, AC, WiFi, Kasur, Akses 24 Jam, Informasi Termasuk Listrik) %"
   ]
  },
  {
   "cell_type": "code",
   "execution_count": 65,
   "metadata": {},
   "outputs": [],
   "source": [
    "# Menghitung jumlah total properti\n",
    "total_properti = len(df_filter)\n",
    "\n",
    "# Menghitung jumlah properti yang menyediakan setiap fasilitas\n",
    "jumlah_k_mandi_dalam = (df_filter['K Mandi Dalam'] == 'Yes').sum()\n",
    "jumlah_ac = (df_filter['AC'] == 'Yes').sum()\n",
    "jumlah_wifi = (df_filter['WiFi'] == 'Yes').sum()\n",
    "jumlah_kasur = (df_filter['Kasur'] == 'Yes').sum()\n",
    "jumlah_akses_24_jam = (df_filter['Akses 24 Jam'] == 'Yes').sum()\n",
    "jumlah_listrik_termasuk = (df['Listrik'] == 'Termasuk listrik').sum()\n",
    "\n",
    "# Menghitung persentase ketersediaan fasilitas\n",
    "persentase_k_mandi_dalam = (jumlah_k_mandi_dalam / total_properti) * 100\n",
    "persentase_ac = (jumlah_ac / total_properti) * 100\n",
    "persentase_wifi = (jumlah_wifi / total_properti) * 100\n",
    "persentase_kasur = (jumlah_kasur / total_properti) * 100\n",
    "persentase_akses_24_jam = (jumlah_akses_24_jam / total_properti) * 100\n",
    "persentase_listrik_termasuk = (jumlah_listrik_termasuk / total_properti) * 100\n",
    "\n",
    "# Membuat dataframe untuk tabel ketersediaan fasilitas\n",
    "tabel_ketersediaan = pd.DataFrame({\n",
    "    'Fasilitas': ['K. Mandi Dalam', 'AC', 'WiFi', 'Kasur', 'Akses 24 Jam', 'Informasi Termasuk Listrik'],\n",
    "    'Persentase Ketersediaan (%)': [\n",
    "        persentase_k_mandi_dalam,\n",
    "        persentase_ac,\n",
    "        persentase_wifi,\n",
    "        persentase_kasur,\n",
    "        persentase_akses_24_jam,\n",
    "        persentase_listrik_termasuk\n",
    "    ]\n",
    "})\n",
    "\n",
    "tabel_ketersediaan[\"Persentase Ketersediaan (%)\"] = tabel_ketersediaan[\"Persentase Ketersediaan (%)\"].round(2)"
   ]
  },
  {
   "cell_type": "code",
   "execution_count": 66,
   "metadata": {},
   "outputs": [
    {
     "data": {
      "text/html": [
       "<div>\n",
       "<style scoped>\n",
       "    .dataframe tbody tr th:only-of-type {\n",
       "        vertical-align: middle;\n",
       "    }\n",
       "\n",
       "    .dataframe tbody tr th {\n",
       "        vertical-align: top;\n",
       "    }\n",
       "\n",
       "    .dataframe thead th {\n",
       "        text-align: right;\n",
       "    }\n",
       "</style>\n",
       "<table border=\"1\" class=\"dataframe\">\n",
       "  <thead>\n",
       "    <tr style=\"text-align: right;\">\n",
       "      <th></th>\n",
       "      <th>Fasilitas</th>\n",
       "      <th>Persentase Ketersediaan (%)</th>\n",
       "    </tr>\n",
       "  </thead>\n",
       "  <tbody>\n",
       "    <tr>\n",
       "      <th>0</th>\n",
       "      <td>K. Mandi Dalam</td>\n",
       "      <td>53.45</td>\n",
       "    </tr>\n",
       "    <tr>\n",
       "      <th>1</th>\n",
       "      <td>AC</td>\n",
       "      <td>58.56</td>\n",
       "    </tr>\n",
       "    <tr>\n",
       "      <th>2</th>\n",
       "      <td>WiFi</td>\n",
       "      <td>84.38</td>\n",
       "    </tr>\n",
       "    <tr>\n",
       "      <th>3</th>\n",
       "      <td>Kasur</td>\n",
       "      <td>95.35</td>\n",
       "    </tr>\n",
       "    <tr>\n",
       "      <th>4</th>\n",
       "      <td>Akses 24 Jam</td>\n",
       "      <td>72.37</td>\n",
       "    </tr>\n",
       "    <tr>\n",
       "      <th>5</th>\n",
       "      <td>Informasi Termasuk Listrik</td>\n",
       "      <td>35.74</td>\n",
       "    </tr>\n",
       "  </tbody>\n",
       "</table>\n",
       "</div>"
      ],
      "text/plain": [
       "                    Fasilitas  Persentase Ketersediaan (%)\n",
       "0              K. Mandi Dalam                        53.45\n",
       "1                          AC                        58.56\n",
       "2                        WiFi                        84.38\n",
       "3                       Kasur                        95.35\n",
       "4                Akses 24 Jam                        72.37\n",
       "5  Informasi Termasuk Listrik                        35.74"
      ]
     },
     "execution_count": 66,
     "metadata": {},
     "output_type": "execute_result"
    }
   ],
   "source": [
    "tabel_ketersediaan"
   ]
  },
  {
   "cell_type": "markdown",
   "metadata": {},
   "source": [
    "Berdasarkan tabel diatas, terlihat bahwa fasilitas yang paling umum tersedia adalah Kasur (95.34%), WiFi (84.18%), fasilitas akses 24 jam (72.55%). Fasilitas AC tersedia di 59.68% indekos, sedangkan kamar mandi dalam ada di 53.17%. Sebaliknya, fasilitas yang paling jarang tersedia adalah listrik yang sudah termasuk dalam biaya sewa, dengan hanya 34.72% indekos yang menyediakannya."
   ]
  },
  {
   "cell_type": "code",
   "execution_count": 67,
   "metadata": {},
   "outputs": [
    {
     "data": {
      "text/plain": [
       "(666, 19)"
      ]
     },
     "execution_count": 67,
     "metadata": {},
     "output_type": "execute_result"
    }
   ],
   "source": [
    "df_filter.shape"
   ]
  },
  {
   "cell_type": "code",
   "execution_count": 70,
   "metadata": {},
   "outputs": [],
   "source": [
    "df_modeling = df_filter.reset_index(drop=True)"
   ]
  },
  {
   "cell_type": "code",
   "execution_count": 73,
   "metadata": {},
   "outputs": [
    {
     "data": {
      "text/html": [
       "<div>\n",
       "<style scoped>\n",
       "    .dataframe tbody tr th:only-of-type {\n",
       "        vertical-align: middle;\n",
       "    }\n",
       "\n",
       "    .dataframe tbody tr th {\n",
       "        vertical-align: top;\n",
       "    }\n",
       "\n",
       "    .dataframe thead th {\n",
       "        text-align: right;\n",
       "    }\n",
       "</style>\n",
       "<table border=\"1\" class=\"dataframe\">\n",
       "  <thead>\n",
       "    <tr style=\"text-align: right;\">\n",
       "      <th></th>\n",
       "      <th>Link</th>\n",
       "      <th>Nama</th>\n",
       "      <th>Lokasi</th>\n",
       "      <th>Harga</th>\n",
       "      <th>Jenis</th>\n",
       "      <th>Listrik</th>\n",
       "      <th>Luas Kamar</th>\n",
       "      <th>K Mandi Dalam</th>\n",
       "      <th>AC</th>\n",
       "      <th>WiFi</th>\n",
       "      <th>Kasur</th>\n",
       "      <th>Akses 24 Jam</th>\n",
       "      <th>Panjang Kamar</th>\n",
       "      <th>Lebar Kamar</th>\n",
       "      <th>Latitude</th>\n",
       "      <th>Longitude</th>\n",
       "      <th>Kampus Terdekat</th>\n",
       "      <th>Jarak ke Kampus Terdekat</th>\n",
       "      <th>Kelompok Kampus</th>\n",
       "    </tr>\n",
       "  </thead>\n",
       "  <tbody>\n",
       "    <tr>\n",
       "      <th>661</th>\n",
       "      <td>https://mamikos.com/room/kost-kota-surabaya-ko...</td>\n",
       "      <td>Kost Griyaku Deluxe Sukolilo Surabaya</td>\n",
       "      <td>Sukolilo</td>\n",
       "      <td>1750000</td>\n",
       "      <td>Putra</td>\n",
       "      <td>Tidak termasuk listrik</td>\n",
       "      <td>7.5</td>\n",
       "      <td>Yes</td>\n",
       "      <td>Yes</td>\n",
       "      <td>Yes</td>\n",
       "      <td>Yes</td>\n",
       "      <td>Yes</td>\n",
       "      <td>2.5</td>\n",
       "      <td>3.0</td>\n",
       "      <td>-7.292635</td>\n",
       "      <td>112.806338</td>\n",
       "      <td>ITS Kampus Sukolilo</td>\n",
       "      <td>1.702362</td>\n",
       "      <td>ITS</td>\n",
       "    </tr>\n",
       "    <tr>\n",
       "      <th>662</th>\n",
       "      <td>https://mamikos.com/room/kost-surabaya-kost-pu...</td>\n",
       "      <td>Kost Bu Antono TMB 7 Tipe A Mulyorejo Surabaya</td>\n",
       "      <td>Mulyorejo</td>\n",
       "      <td>550000</td>\n",
       "      <td>Putra</td>\n",
       "      <td>Tidak termasuk listrik</td>\n",
       "      <td>6.0</td>\n",
       "      <td>No</td>\n",
       "      <td>No</td>\n",
       "      <td>No</td>\n",
       "      <td>Yes</td>\n",
       "      <td>Yes</td>\n",
       "      <td>2.0</td>\n",
       "      <td>3.0</td>\n",
       "      <td>-7.276612</td>\n",
       "      <td>112.786996</td>\n",
       "      <td>UNAIR Kampus Merr C</td>\n",
       "      <td>0.952267</td>\n",
       "      <td>UNAIR</td>\n",
       "    </tr>\n",
       "    <tr>\n",
       "      <th>663</th>\n",
       "      <td>https://mamikos.com/room/kost-kota-surabaya-ko...</td>\n",
       "      <td>Kost Griya Putri Bu Lidia Sukolilo Surabaya</td>\n",
       "      <td>Sukolilo</td>\n",
       "      <td>2599999</td>\n",
       "      <td>Putri</td>\n",
       "      <td>Tidak termasuk listrik</td>\n",
       "      <td>12.0</td>\n",
       "      <td>Yes</td>\n",
       "      <td>Yes</td>\n",
       "      <td>Yes</td>\n",
       "      <td>Yes</td>\n",
       "      <td>Yes</td>\n",
       "      <td>3.0</td>\n",
       "      <td>4.0</td>\n",
       "      <td>-7.292577</td>\n",
       "      <td>112.808134</td>\n",
       "      <td>ITS Kampus Sukolilo</td>\n",
       "      <td>1.849136</td>\n",
       "      <td>ITS</td>\n",
       "    </tr>\n",
       "    <tr>\n",
       "      <th>664</th>\n",
       "      <td>https://mamikos.com/room/kost-kota-surabaya-ko...</td>\n",
       "      <td>Kost Veka Sukolilo Surabaya</td>\n",
       "      <td>Sukolilo</td>\n",
       "      <td>1600000</td>\n",
       "      <td>Putra</td>\n",
       "      <td>Tidak termasuk listrik</td>\n",
       "      <td>9.0</td>\n",
       "      <td>Yes</td>\n",
       "      <td>Yes</td>\n",
       "      <td>Yes</td>\n",
       "      <td>Yes</td>\n",
       "      <td>Yes</td>\n",
       "      <td>3.0</td>\n",
       "      <td>3.0</td>\n",
       "      <td>-7.289354</td>\n",
       "      <td>112.803380</td>\n",
       "      <td>ITS Kampus Sukolilo</td>\n",
       "      <td>1.216275</td>\n",
       "      <td>ITS</td>\n",
       "    </tr>\n",
       "    <tr>\n",
       "      <th>665</th>\n",
       "      <td>https://mamikos.com/room/kost-kota-surabaya-ko...</td>\n",
       "      <td>Kost Griya Siswa Mulyorejo Surabaya</td>\n",
       "      <td>Mulyorejo</td>\n",
       "      <td>1400000</td>\n",
       "      <td>Putra</td>\n",
       "      <td>Tidak termasuk listrik</td>\n",
       "      <td>12.0</td>\n",
       "      <td>Yes</td>\n",
       "      <td>Yes</td>\n",
       "      <td>Yes</td>\n",
       "      <td>Yes</td>\n",
       "      <td>Yes</td>\n",
       "      <td>3.0</td>\n",
       "      <td>4.0</td>\n",
       "      <td>-7.289354</td>\n",
       "      <td>112.803380</td>\n",
       "      <td>ITS Kampus Sukolilo</td>\n",
       "      <td>1.216275</td>\n",
       "      <td>ITS</td>\n",
       "    </tr>\n",
       "  </tbody>\n",
       "</table>\n",
       "</div>"
      ],
      "text/plain": [
       "                                                  Link  \\\n",
       "661  https://mamikos.com/room/kost-kota-surabaya-ko...   \n",
       "662  https://mamikos.com/room/kost-surabaya-kost-pu...   \n",
       "663  https://mamikos.com/room/kost-kota-surabaya-ko...   \n",
       "664  https://mamikos.com/room/kost-kota-surabaya-ko...   \n",
       "665  https://mamikos.com/room/kost-kota-surabaya-ko...   \n",
       "\n",
       "                                               Nama     Lokasi    Harga  \\\n",
       "661           Kost Griyaku Deluxe Sukolilo Surabaya   Sukolilo  1750000   \n",
       "662  Kost Bu Antono TMB 7 Tipe A Mulyorejo Surabaya  Mulyorejo   550000   \n",
       "663     Kost Griya Putri Bu Lidia Sukolilo Surabaya   Sukolilo  2599999   \n",
       "664                     Kost Veka Sukolilo Surabaya   Sukolilo  1600000   \n",
       "665             Kost Griya Siswa Mulyorejo Surabaya  Mulyorejo  1400000   \n",
       "\n",
       "     Jenis                 Listrik  Luas Kamar K Mandi Dalam   AC WiFi Kasur  \\\n",
       "661  Putra  Tidak termasuk listrik         7.5           Yes  Yes  Yes   Yes   \n",
       "662  Putra  Tidak termasuk listrik         6.0            No   No   No   Yes   \n",
       "663  Putri  Tidak termasuk listrik        12.0           Yes  Yes  Yes   Yes   \n",
       "664  Putra  Tidak termasuk listrik         9.0           Yes  Yes  Yes   Yes   \n",
       "665  Putra  Tidak termasuk listrik        12.0           Yes  Yes  Yes   Yes   \n",
       "\n",
       "    Akses 24 Jam  Panjang Kamar  Lebar Kamar  Latitude   Longitude  \\\n",
       "661          Yes            2.5          3.0 -7.292635  112.806338   \n",
       "662          Yes            2.0          3.0 -7.276612  112.786996   \n",
       "663          Yes            3.0          4.0 -7.292577  112.808134   \n",
       "664          Yes            3.0          3.0 -7.289354  112.803380   \n",
       "665          Yes            3.0          4.0 -7.289354  112.803380   \n",
       "\n",
       "         Kampus Terdekat  Jarak ke Kampus Terdekat Kelompok Kampus  \n",
       "661  ITS Kampus Sukolilo                  1.702362             ITS  \n",
       "662  UNAIR Kampus Merr C                  0.952267           UNAIR  \n",
       "663  ITS Kampus Sukolilo                  1.849136             ITS  \n",
       "664  ITS Kampus Sukolilo                  1.216275             ITS  \n",
       "665  ITS Kampus Sukolilo                  1.216275             ITS  "
      ]
     },
     "execution_count": 73,
     "metadata": {},
     "output_type": "execute_result"
    }
   ],
   "source": [
    "df_modeling.tail()"
   ]
  },
  {
   "cell_type": "code",
   "execution_count": 74,
   "metadata": {},
   "outputs": [],
   "source": [
    "df_modeling.to_csv(\"data_modeling.csv\", index=True)"
   ]
  },
  {
   "cell_type": "code",
   "execution_count": null,
   "metadata": {},
   "outputs": [],
   "source": []
  }
 ],
 "metadata": {
  "kernelspec": {
   "display_name": "Python 3",
   "language": "python",
   "name": "python3"
  },
  "language_info": {
   "codemirror_mode": {
    "name": "ipython",
    "version": 3
   },
   "file_extension": ".py",
   "mimetype": "text/x-python",
   "name": "python",
   "nbconvert_exporter": "python",
   "pygments_lexer": "ipython3",
   "version": "3.8.3"
  }
 },
 "nbformat": 4,
 "nbformat_minor": 4
}
